{
 "cells": [
  {
   "cell_type": "markdown",
   "metadata": {
    "id": "qTg710eF7JIK"
   },
   "source": [
    "## 0. Setup"
   ]
  },
  {
   "cell_type": "code",
   "execution_count": null,
   "metadata": {
    "id": "T0Lmoi-wVcND"
   },
   "outputs": [],
   "source": [
    "# git@github.com:tayyabmujahid/crnn-pytorch.git use this for future test this"
   ]
  },
  {
   "cell_type": "code",
   "execution_count": null,
   "metadata": {
    "colab": {
     "base_uri": "https://localhost:8080/"
    },
    "id": "n9I5_oPN88Cm",
    "outputId": "53e987c5-b4d0-492d-df63-e6ea230b2c30"
   },
   "outputs": [
    {
     "name": "stdout",
     "output_type": "stream",
     "text": [
      "Collecting wandb\n",
      "  Downloading wandb-0.18.2-py3-none-manylinux_2_17_x86_64.manylinux2014_x86_64.whl.metadata (9.7 kB)\n",
      "Requirement already satisfied: click!=8.0.0,>=7.1 in /usr/local/lib/python3.10/dist-packages (from wandb) (8.1.7)\n",
      "Collecting docker-pycreds>=0.4.0 (from wandb)\n",
      "  Downloading docker_pycreds-0.4.0-py2.py3-none-any.whl.metadata (1.8 kB)\n",
      "Collecting gitpython!=3.1.29,>=1.0.0 (from wandb)\n",
      "  Downloading GitPython-3.1.43-py3-none-any.whl.metadata (13 kB)\n",
      "Requirement already satisfied: platformdirs in /usr/local/lib/python3.10/dist-packages (from wandb) (4.3.6)\n",
      "Requirement already satisfied: protobuf!=4.21.0,!=5.28.0,<6,>=3.19.0 in /usr/local/lib/python3.10/dist-packages (from wandb) (3.20.3)\n",
      "Requirement already satisfied: psutil>=5.0.0 in /usr/local/lib/python3.10/dist-packages (from wandb) (5.9.5)\n",
      "Requirement already satisfied: pyyaml in /usr/local/lib/python3.10/dist-packages (from wandb) (6.0.2)\n",
      "Requirement already satisfied: requests<3,>=2.0.0 in /usr/local/lib/python3.10/dist-packages (from wandb) (2.32.3)\n",
      "Collecting sentry-sdk>=1.0.0 (from wandb)\n",
      "  Downloading sentry_sdk-2.14.0-py2.py3-none-any.whl.metadata (9.7 kB)\n",
      "Collecting setproctitle (from wandb)\n",
      "  Downloading setproctitle-1.3.3-cp310-cp310-manylinux_2_5_x86_64.manylinux1_x86_64.manylinux_2_17_x86_64.manylinux2014_x86_64.whl.metadata (9.9 kB)\n",
      "Requirement already satisfied: setuptools in /usr/local/lib/python3.10/dist-packages (from wandb) (71.0.4)\n",
      "Requirement already satisfied: six>=1.4.0 in /usr/local/lib/python3.10/dist-packages (from docker-pycreds>=0.4.0->wandb) (1.16.0)\n",
      "Collecting gitdb<5,>=4.0.1 (from gitpython!=3.1.29,>=1.0.0->wandb)\n",
      "  Downloading gitdb-4.0.11-py3-none-any.whl.metadata (1.2 kB)\n",
      "Requirement already satisfied: charset-normalizer<4,>=2 in /usr/local/lib/python3.10/dist-packages (from requests<3,>=2.0.0->wandb) (3.3.2)\n",
      "Requirement already satisfied: idna<4,>=2.5 in /usr/local/lib/python3.10/dist-packages (from requests<3,>=2.0.0->wandb) (3.10)\n",
      "Requirement already satisfied: urllib3<3,>=1.21.1 in /usr/local/lib/python3.10/dist-packages (from requests<3,>=2.0.0->wandb) (2.2.3)\n",
      "Requirement already satisfied: certifi>=2017.4.17 in /usr/local/lib/python3.10/dist-packages (from requests<3,>=2.0.0->wandb) (2024.8.30)\n",
      "Collecting smmap<6,>=3.0.1 (from gitdb<5,>=4.0.1->gitpython!=3.1.29,>=1.0.0->wandb)\n",
      "  Downloading smmap-5.0.1-py3-none-any.whl.metadata (4.3 kB)\n",
      "Downloading wandb-0.18.2-py3-none-manylinux_2_17_x86_64.manylinux2014_x86_64.whl (12.8 MB)\n",
      "\u001b[2K   \u001b[90m━━━━━━━━━━━━━━━━━━━━━━━━━━━━━━━━━━━━━━━━\u001b[0m \u001b[32m12.8/12.8 MB\u001b[0m \u001b[31m32.8 MB/s\u001b[0m eta \u001b[36m0:00:00\u001b[0m\n",
      "\u001b[?25hDownloading docker_pycreds-0.4.0-py2.py3-none-any.whl (9.0 kB)\n",
      "Downloading GitPython-3.1.43-py3-none-any.whl (207 kB)\n",
      "\u001b[2K   \u001b[90m━━━━━━━━━━━━━━━━━━━━━━━━━━━━━━━━━━━━━━━━\u001b[0m \u001b[32m207.3/207.3 kB\u001b[0m \u001b[31m6.9 MB/s\u001b[0m eta \u001b[36m0:00:00\u001b[0m\n",
      "\u001b[?25hDownloading sentry_sdk-2.14.0-py2.py3-none-any.whl (311 kB)\n",
      "\u001b[2K   \u001b[90m━━━━━━━━━━━━━━━━━━━━━━━━━━━━━━━━━━━━━━━━\u001b[0m \u001b[32m311.4/311.4 kB\u001b[0m \u001b[31m11.5 MB/s\u001b[0m eta \u001b[36m0:00:00\u001b[0m\n",
      "\u001b[?25hDownloading setproctitle-1.3.3-cp310-cp310-manylinux_2_5_x86_64.manylinux1_x86_64.manylinux_2_17_x86_64.manylinux2014_x86_64.whl (30 kB)\n",
      "Downloading gitdb-4.0.11-py3-none-any.whl (62 kB)\n",
      "\u001b[2K   \u001b[90m━━━━━━━━━━━━━━━━━━━━━━━━━━━━━━━━━━━━━━━━\u001b[0m \u001b[32m62.7/62.7 kB\u001b[0m \u001b[31m3.5 MB/s\u001b[0m eta \u001b[36m0:00:00\u001b[0m\n",
      "\u001b[?25hDownloading smmap-5.0.1-py3-none-any.whl (24 kB)\n",
      "Installing collected packages: smmap, setproctitle, sentry-sdk, docker-pycreds, gitdb, gitpython, wandb\n",
      "Successfully installed docker-pycreds-0.4.0 gitdb-4.0.11 gitpython-3.1.43 sentry-sdk-2.14.0 setproctitle-1.3.3 smmap-5.0.1 wandb-0.18.2\n"
     ]
    }
   ],
   "source": [
    "!pip install --upgrade wandb"
   ]
  },
  {
   "cell_type": "code",
   "execution_count": null,
   "metadata": {
    "id": "aGMQB72J9RRQ"
   },
   "outputs": [],
   "source": [
    "from torch.utils.data import Dataset, DataLoader, Subset\n",
    "import os\n",
    "import cv2\n",
    "from tensorflow.keras.preprocessing.sequence import pad_sequences"
   ]
  },
  {
   "cell_type": "code",
   "execution_count": null,
   "metadata": {
    "id": "Et96ReLddqea"
   },
   "outputs": [],
   "source": [
    "import torch\n",
    "import torch.nn as nn\n",
    "import torch.nn.functional as F\n",
    "from torch.autograd import Variable\n",
    "import torch.nn.init as init\n",
    "from torch.utils.data import DataLoader"
   ]
  },
  {
   "cell_type": "code",
   "execution_count": null,
   "metadata": {
    "id": "fADz2WBwDGZG"
   },
   "outputs": [],
   "source": [
    "from typing import List\n",
    "from skimage import io, transform\n",
    "from PIL import Image\n",
    "\n",
    "class VocabularyEncoding:\n",
    "    def __init__(self,root_dir) -> None:\n",
    "        self.image_paths, self.image_texts = self.load_data(root_dir)\n",
    "        self.char_list, self.max_label_len = self.create_vocabulary(self.image_texts)\n",
    "\n",
    "\n",
    "    def load_data(self,root_dir:str):\n",
    "        #loads images from folder and names of images as labels\n",
    "        #removes corrupt images\n",
    "        root_dir = root_dir\n",
    "        image_paths = list()\n",
    "        image_texts = list()\n",
    "        for path in os.listdir(root_dir):\n",
    "            image_paths.append(root_dir + \"/\" + path)\n",
    "            image_texts.append(path.split(\"_\")[1])\n",
    "        corrupt_images = []\n",
    "        for path in image_paths:\n",
    "            try:\n",
    "                img = cv2.cvtColor(cv2.imread(path), cv2.COLOR_BGR2GRAY)\n",
    "            except:\n",
    "                corrupt_images.append(path)\n",
    "        print(\"Corrupt Images\", corrupt_images)\n",
    "        print(\"Number of Corrupt Images\",len(corrupt_images))\n",
    "        print(\"Deleting Corrupt Images and Paths\")\n",
    "        for path in corrupt_images:\n",
    "            corrupt_index = image_paths.index(path)\n",
    "            del image_paths[corrupt_index]\n",
    "            del image_texts[corrupt_index]\n",
    "        return image_paths, image_texts\n",
    "    def create_vocabulary(self,image_texts: List) -> List:\n",
    "        #get vocabulary for the current dataset\n",
    "        vocab = set(\"\".join(map(str, image_texts)))\n",
    "        #max len of label\n",
    "        max_label_len = max([len(str(text)) for text in image_texts])\n",
    "        char_list = sorted(vocab)\n",
    "        return char_list,max_label_len\n",
    "\n",
    "    def encode_labels(self):\n",
    "        return list(map(self._encode_labels,self.image_texts))\n",
    "    def _encode_labels(self,txt):\n",
    "        # encoding each output word into digits\n",
    "        dig_lst = []\n",
    "\n",
    "        for index, char in enumerate(txt):\n",
    "            try:\n",
    "                dig_lst.append(self.char_list.index(char))\n",
    "            except:\n",
    "                print(char)\n",
    "        encoded_labels = pad_sequences([dig_lst], maxlen=self.max_label_len, padding='post', value=len(self.char_list))[0]\n",
    "        return encoded_labels\n",
    "\n",
    "class MJSynthDataset(Dataset):\n",
    "    def __init__(self,encoding,transform = None):\n",
    "        # encoding = VocabularyEncoding(root_dir)\n",
    "        self.image_paths = encoding.image_paths\n",
    "        self.image_texts = encoding.image_texts\n",
    "        self.padded_image_texts = encoding.encode_labels()\n",
    "        self.transform = transform\n",
    "    def __len__(self):\n",
    "        return len(self.image_texts)\n",
    "    def __getitem__(self,idx):\n",
    "        image_path = self.image_paths[idx]\n",
    "        image = Image.open(image_path)\n",
    "        label = self.padded_image_texts[idx]\n",
    "        sample = {\"image\": image, \"label\": label}\n",
    "        if self.transform:\n",
    "            sample['image'] = self.transform(sample['image'])\n",
    "        return sample\n"
   ]
  },
  {
   "cell_type": "code",
   "execution_count": 1,
   "metadata": {
    "colab": {
     "base_uri": "https://localhost:8080/"
    },
    "id": "ZZDrylJNdXUa",
    "outputId": "c9a0e6a5-d565-4a41-f889-a941ce487b93"
   },
   "outputs": [
    {
     "ename": "ModuleNotFoundError",
     "evalue": "No module named 'google'",
     "output_type": "error",
     "traceback": [
      "\u001b[0;31m---------------------------------------------------------------------------\u001b[0m",
      "\u001b[0;31mModuleNotFoundError\u001b[0m                       Traceback (most recent call last)",
      "Cell \u001b[0;32mIn[1], line 1\u001b[0m\n\u001b[0;32m----> 1\u001b[0m \u001b[38;5;28;01mfrom\u001b[39;00m \u001b[38;5;21;01mgoogle\u001b[39;00m\u001b[38;5;21;01m.\u001b[39;00m\u001b[38;5;21;01mcolab\u001b[39;00m \u001b[38;5;28;01mimport\u001b[39;00m drive\n\u001b[1;32m      2\u001b[0m drive\u001b[38;5;241m.\u001b[39mmount(\u001b[38;5;124m'\u001b[39m\u001b[38;5;124m/content/drive\u001b[39m\u001b[38;5;124m'\u001b[39m)\n",
      "\u001b[0;31mModuleNotFoundError\u001b[0m: No module named 'google'"
     ]
    }
   ],
   "source": [
    "from google.colab import drive\n",
    "drive.mount('/content/drive')"
   ]
  },
  {
   "cell_type": "code",
   "execution_count": null,
   "metadata": {
    "colab": {
     "base_uri": "https://localhost:8080/"
    },
    "id": "q60Hh2nlzGgw",
    "outputId": "a776454e-8fcb-4ad4-d868-124a84a49b2e"
   },
   "outputs": [
    {
     "name": "stdout",
     "output_type": "stream",
     "text": [
      "/content\n"
     ]
    }
   ],
   "source": [
    "!pwd"
   ]
  },
  {
   "cell_type": "code",
   "execution_count": null,
   "metadata": {
    "colab": {
     "base_uri": "https://localhost:8080/"
    },
    "id": "cBQtRElaofXI",
    "outputId": "dda85373-a849-4e00-cf9d-b9b1bda92e4a"
   },
   "outputs": [
    {
     "name": "stdout",
     "output_type": "stream",
     "text": [
      "mkdir: cannot create directory ‘/mjsynth_sample’: File exists\n",
      "checkdir:  cannot create extraction directory: /content/crnn-pytorch/data\n",
      "           No such file or directory\n"
     ]
    }
   ],
   "source": [
    "!mkdir /mjsynth_sample\n",
    "!unzip -qq /content/drive/My\\ Drive/Datasets/mjsynth_sample.zip -d /content/crnn-pytorch/data\n",
    "# !tar -xzf /content/drive/MyDrive/Datasets/mjsynth.tar.gz -C /content/crnn-pytorch/data\n",
    "# !cp /content/drive/My\\ Drive/Mariyah_Phd/weights/C_LSTM_best.hdf5 /content"
   ]
  },
  {
   "cell_type": "code",
   "execution_count": null,
   "metadata": {
    "colab": {
     "base_uri": "https://localhost:8080/",
     "height": 418
    },
    "id": "l0atgb1DdZBY",
    "outputId": "32b80d99-96f0-473c-e4e1-8b179612353c"
   },
   "outputs": [
    {
     "name": "stdout",
     "output_type": "stream",
     "text": [
      "Corrupt Images []\n",
      "Number of Corrupt Images 0\n",
      "Deleting Corrupt Images and Paths\n"
     ]
    },
    {
     "ename": "ValueError",
     "evalue": "max() arg is an empty sequence",
     "output_type": "error",
     "traceback": [
      "\u001b[0;31m---------------------------------------------------------------------------\u001b[0m",
      "\u001b[0;31mValueError\u001b[0m                                Traceback (most recent call last)",
      "\u001b[0;32m<ipython-input-7-e84d28338746>\u001b[0m in \u001b[0;36m<cell line: 4>\u001b[0;34m()\u001b[0m\n\u001b[1;32m      2\u001b[0m \u001b[0;32mfrom\u001b[0m \u001b[0mtorch\u001b[0m\u001b[0;34m.\u001b[0m\u001b[0mutils\u001b[0m\u001b[0;34m.\u001b[0m\u001b[0mdata\u001b[0m \u001b[0;32mimport\u001b[0m \u001b[0mrandom_split\u001b[0m\u001b[0;34m\u001b[0m\u001b[0;34m\u001b[0m\u001b[0m\n\u001b[1;32m      3\u001b[0m \u001b[0mtransforms\u001b[0m \u001b[0;34m=\u001b[0m \u001b[0mCompose\u001b[0m\u001b[0;34m(\u001b[0m\u001b[0;34m[\u001b[0m\u001b[0mGrayscale\u001b[0m\u001b[0;34m(\u001b[0m\u001b[0;34m)\u001b[0m\u001b[0;34m,\u001b[0m\u001b[0mResize\u001b[0m\u001b[0;34m(\u001b[0m\u001b[0msize\u001b[0m \u001b[0;34m=\u001b[0m \u001b[0;34m(\u001b[0m\u001b[0;36m32\u001b[0m\u001b[0;34m,\u001b[0m \u001b[0;36m128\u001b[0m\u001b[0;34m)\u001b[0m\u001b[0;34m)\u001b[0m\u001b[0;34m,\u001b[0m\u001b[0mToTensor\u001b[0m\u001b[0;34m(\u001b[0m\u001b[0;34m)\u001b[0m\u001b[0;34m]\u001b[0m\u001b[0;34m)\u001b[0m\u001b[0;34m\u001b[0m\u001b[0;34m\u001b[0m\u001b[0m\n\u001b[0;32m----> 4\u001b[0;31m \u001b[0mvv\u001b[0m \u001b[0;34m=\u001b[0m \u001b[0mVocabularyEncoding\u001b[0m\u001b[0;34m(\u001b[0m\u001b[0;34m\"mjsynth_sample\"\u001b[0m\u001b[0;34m)\u001b[0m\u001b[0;34m\u001b[0m\u001b[0;34m\u001b[0m\u001b[0m\n\u001b[0m\u001b[1;32m      5\u001b[0m \u001b[0mlen_char_list\u001b[0m \u001b[0;34m=\u001b[0m \u001b[0mlen\u001b[0m\u001b[0;34m(\u001b[0m\u001b[0mvv\u001b[0m\u001b[0;34m.\u001b[0m\u001b[0mchar_list\u001b[0m\u001b[0;34m)\u001b[0m\u001b[0;34m\u001b[0m\u001b[0;34m\u001b[0m\u001b[0m\n\u001b[1;32m      6\u001b[0m \u001b[0mdataset\u001b[0m \u001b[0;34m=\u001b[0m \u001b[0mMJSynthDataset\u001b[0m\u001b[0;34m(\u001b[0m\u001b[0mencoding\u001b[0m \u001b[0;34m=\u001b[0m \u001b[0mvv\u001b[0m\u001b[0;34m,\u001b[0m \u001b[0mtransform\u001b[0m \u001b[0;34m=\u001b[0m \u001b[0mtransforms\u001b[0m\u001b[0;34m)\u001b[0m\u001b[0;34m\u001b[0m\u001b[0;34m\u001b[0m\u001b[0m\n",
      "\u001b[0;32m<ipython-input-4-e206c0c36503>\u001b[0m in \u001b[0;36m__init__\u001b[0;34m(self, root_dir)\u001b[0m\n\u001b[1;32m      6\u001b[0m     \u001b[0;32mdef\u001b[0m \u001b[0m__init__\u001b[0m\u001b[0;34m(\u001b[0m\u001b[0mself\u001b[0m\u001b[0;34m,\u001b[0m\u001b[0mroot_dir\u001b[0m\u001b[0;34m)\u001b[0m \u001b[0;34m->\u001b[0m \u001b[0;32mNone\u001b[0m\u001b[0;34m:\u001b[0m\u001b[0;34m\u001b[0m\u001b[0;34m\u001b[0m\u001b[0m\n\u001b[1;32m      7\u001b[0m         \u001b[0mself\u001b[0m\u001b[0;34m.\u001b[0m\u001b[0mimage_paths\u001b[0m\u001b[0;34m,\u001b[0m \u001b[0mself\u001b[0m\u001b[0;34m.\u001b[0m\u001b[0mimage_texts\u001b[0m \u001b[0;34m=\u001b[0m \u001b[0mself\u001b[0m\u001b[0;34m.\u001b[0m\u001b[0mload_data\u001b[0m\u001b[0;34m(\u001b[0m\u001b[0mroot_dir\u001b[0m\u001b[0;34m)\u001b[0m\u001b[0;34m\u001b[0m\u001b[0;34m\u001b[0m\u001b[0m\n\u001b[0;32m----> 8\u001b[0;31m         \u001b[0mself\u001b[0m\u001b[0;34m.\u001b[0m\u001b[0mchar_list\u001b[0m\u001b[0;34m,\u001b[0m \u001b[0mself\u001b[0m\u001b[0;34m.\u001b[0m\u001b[0mmax_label_len\u001b[0m \u001b[0;34m=\u001b[0m \u001b[0mself\u001b[0m\u001b[0;34m.\u001b[0m\u001b[0mcreate_vocabulary\u001b[0m\u001b[0;34m(\u001b[0m\u001b[0mself\u001b[0m\u001b[0;34m.\u001b[0m\u001b[0mimage_texts\u001b[0m\u001b[0;34m)\u001b[0m\u001b[0;34m\u001b[0m\u001b[0;34m\u001b[0m\u001b[0m\n\u001b[0m\u001b[1;32m      9\u001b[0m \u001b[0;34m\u001b[0m\u001b[0m\n\u001b[1;32m     10\u001b[0m \u001b[0;34m\u001b[0m\u001b[0m\n",
      "\u001b[0;32m<ipython-input-4-e206c0c36503>\u001b[0m in \u001b[0;36mcreate_vocabulary\u001b[0;34m(self, image_texts)\u001b[0m\n\u001b[1;32m     36\u001b[0m         \u001b[0mvocab\u001b[0m \u001b[0;34m=\u001b[0m \u001b[0mset\u001b[0m\u001b[0;34m(\u001b[0m\u001b[0;34m\"\"\u001b[0m\u001b[0;34m.\u001b[0m\u001b[0mjoin\u001b[0m\u001b[0;34m(\u001b[0m\u001b[0mmap\u001b[0m\u001b[0;34m(\u001b[0m\u001b[0mstr\u001b[0m\u001b[0;34m,\u001b[0m \u001b[0mimage_texts\u001b[0m\u001b[0;34m)\u001b[0m\u001b[0;34m)\u001b[0m\u001b[0;34m)\u001b[0m\u001b[0;34m\u001b[0m\u001b[0;34m\u001b[0m\u001b[0m\n\u001b[1;32m     37\u001b[0m         \u001b[0;31m#max len of label\u001b[0m\u001b[0;34m\u001b[0m\u001b[0;34m\u001b[0m\u001b[0m\n\u001b[0;32m---> 38\u001b[0;31m         \u001b[0mmax_label_len\u001b[0m \u001b[0;34m=\u001b[0m \u001b[0mmax\u001b[0m\u001b[0;34m(\u001b[0m\u001b[0;34m[\u001b[0m\u001b[0mlen\u001b[0m\u001b[0;34m(\u001b[0m\u001b[0mstr\u001b[0m\u001b[0;34m(\u001b[0m\u001b[0mtext\u001b[0m\u001b[0;34m)\u001b[0m\u001b[0;34m)\u001b[0m \u001b[0;32mfor\u001b[0m \u001b[0mtext\u001b[0m \u001b[0;32min\u001b[0m \u001b[0mimage_texts\u001b[0m\u001b[0;34m]\u001b[0m\u001b[0;34m)\u001b[0m\u001b[0;34m\u001b[0m\u001b[0;34m\u001b[0m\u001b[0m\n\u001b[0m\u001b[1;32m     39\u001b[0m         \u001b[0mchar_list\u001b[0m \u001b[0;34m=\u001b[0m \u001b[0msorted\u001b[0m\u001b[0;34m(\u001b[0m\u001b[0mvocab\u001b[0m\u001b[0;34m)\u001b[0m\u001b[0;34m\u001b[0m\u001b[0;34m\u001b[0m\u001b[0m\n\u001b[1;32m     40\u001b[0m         \u001b[0;32mreturn\u001b[0m \u001b[0mchar_list\u001b[0m\u001b[0;34m,\u001b[0m\u001b[0mmax_label_len\u001b[0m\u001b[0;34m\u001b[0m\u001b[0;34m\u001b[0m\u001b[0m\n",
      "\u001b[0;31mValueError\u001b[0m: max() arg is an empty sequence"
     ]
    }
   ],
   "source": [
    "from torchvision.transforms import Grayscale, Compose,Resize, ToTensor\n",
    "from torch.utils.data import random_split\n",
    "transforms = Compose([Grayscale(),Resize(size = (32, 128)),ToTensor()])\n",
    "vv = VocabularyEncoding(\"mjsynth_sample\")\n",
    "len_char_list = len(vv.char_list)\n",
    "dataset = MJSynthDataset(encoding = vv, transform = transforms)\n",
    "\n",
    "\n",
    "train_size = int(0.9 * len(dataset))\n",
    "valid_size = len(dataset) - train_size\n",
    "\n",
    "train_dataset, valid_dataset = random_split(dataset, [train_size, valid_size])"
   ]
  },
  {
   "cell_type": "code",
   "execution_count": null,
   "metadata": {
    "id": "1p5bv7maiz9I"
   },
   "outputs": [],
   "source": [
    "batch_size = 256\n",
    "train_dataloader = DataLoader(train_dataset,batch_size = batch_size,shuffle=True,num_workers=0)\n",
    "valid_dataloader = DataLoader(valid_dataset,batch_size = batch_size,shuffle=True,num_workers=0)"
   ]
  },
  {
   "cell_type": "code",
   "execution_count": null,
   "metadata": {
    "id": "PpmL4Soxf9qn"
   },
   "outputs": [],
   "source": [
    "class CRNN(nn.Module):\n",
    "    def __init__(self):\n",
    "       super(CRNN, self).__init__()\n",
    "       self._conv = nn.Sequential(\n",
    "       nn.Conv2d(in_channels=1,out_channels=32,kernel_size = (3,3),padding = 'same'),\n",
    "       nn.SELU(),\n",
    "       nn.MaxPool2d(kernel_size=(2,2)),\n",
    "       nn.Conv2d(in_channels=32,out_channels=64,kernel_size=(3,3),padding='same'),\n",
    "       nn.SELU(),\n",
    "       nn.MaxPool2d(kernel_size=(2,2)),\n",
    "       nn.Conv2d(in_channels=64,out_channels=128,kernel_size=(3,3),padding='same'),\n",
    "       nn.SELU(),\n",
    "       nn.Conv2d(in_channels=128,out_channels=128,kernel_size=(3,3),padding='same'),\n",
    "       nn.SELU(),\n",
    "       nn.MaxPool2d(kernel_size=(2,1)),\n",
    "       nn.Conv2d(in_channels=128,out_channels=256,kernel_size=(3,3),padding='same'),\n",
    "       nn.SELU(),\n",
    "       nn.BatchNorm2d(256),\n",
    "\n",
    "       nn.Conv2d(in_channels=256,out_channels=256,kernel_size=(3,3),padding='same'),\n",
    "       nn.SELU(),\n",
    "       nn.BatchNorm2d(256),\n",
    "\n",
    "       nn.MaxPool2d(kernel_size=(2,1)),\n",
    "       nn.Conv2d(in_channels=256,out_channels=64,kernel_size=(2,2)),\n",
    "       nn.SELU(),\n",
    "       )\n",
    "       self._rnn = nn.Sequential(\n",
    "       nn.LSTM(input_size = 64, hidden_size = 128, num_layers = 2, batch_first=True, bidirectional=True),\n",
    "\n",
    "\n",
    "    )\n",
    "    #    self.bilstm1 = nn.LSTM(bidirectional=True) ?\n",
    "    #    self.bilstm2 = nn.LSTM(bidirectional=True) ?\n",
    "       self.linear = nn.Linear(in_features = 256 ,out_features= 62+1)\n",
    "    def forward(self,x):\n",
    "        hidden = None\n",
    "        out = self._conv(x)\n",
    "        # out = torch.squeeze(out)\n",
    "        print(out.shape)\n",
    "        out = out.reshape(256,-1,64)\n",
    "        print(out.shape)\n",
    "        out, hidden = self._rnn(out)\n",
    "        out = self.linear(out)\n",
    "        return out,hidden\n",
    "cnn_output_height = 4\n",
    "gru_hidden_size = 256\n",
    "gru_num_layers = 2\n",
    "class CRNN2(nn.Module):\n",
    "    def __init__(self):\n",
    "        super(CRNN2, self).__init__()\n",
    "        self.conv1 = nn.Conv2d(1, 32, kernel_size=(3, 3))\n",
    "        self.norm1 = nn.InstanceNorm2d(32)\n",
    "        self.conv2 = nn.Conv2d(32, 32, kernel_size=(3, 3), stride=2)\n",
    "        self.norm2 = nn.InstanceNorm2d(32)\n",
    "        self.conv3 = nn.Conv2d(32, 64, kernel_size=(3, 3))\n",
    "        self.norm3 = nn.InstanceNorm2d(64)\n",
    "        self.conv4 = nn.Conv2d(64, 64, kernel_size=(3, 3), stride=2)\n",
    "        self.norm4 = nn.InstanceNorm2d(64)\n",
    "        self.gru_input_size = cnn_output_height * 64\n",
    "        self.gru = nn.GRU(self.gru_input_size, gru_hidden_size, gru_num_layers,\n",
    "                          batch_first=True, bidirectional=True)\n",
    "        self.fc = nn.Linear(gru_hidden_size * 2, len_char_list)\n",
    "    def forward(self,x):\n",
    "        batch_size = x.shape[0]\n",
    "        out = self.conv1(x)\n",
    "        out = self.norm1(out)\n",
    "        out = F.leaky_relu(out)\n",
    "        out = self.conv2(out)\n",
    "        out = self.norm2(out)\n",
    "        out = F.leaky_relu(out)\n",
    "        out = self.conv3(out)\n",
    "        out = self.norm3(out)\n",
    "        out = F.leaky_relu(out)\n",
    "        out = self.conv4(out)\n",
    "        out = self.norm4(out)\n",
    "        out = F.leaky_relu(out)\n",
    "        out = out.reshape(batch_size, -1, self.gru_input_size)\n",
    "        out, _ = self.gru(out)\n",
    "        out = torch.stack([F.log_softmax(self.fc(out[i]), dim=-1) for i in range(out.shape[0])])\n",
    "        return out\n"
   ]
  },
  {
   "cell_type": "code",
   "execution_count": null,
   "metadata": {
    "id": "AbAp9ovY2alc"
   },
   "outputs": [],
   "source": [
    "#https://medium.com/swlh/multi-digit-sequence-recognition-with-crnn-and-ctc-loss-using-pytorch-framework-269a7aca2a6\n",
    "#https://saturncloud.io/blog/understanding-pytorch-lstm-input-dimensions-for-data-scientists/\n",
    "#https://theaisummer.com/simclr/\n"
   ]
  },
  {
   "cell_type": "code",
   "execution_count": null,
   "metadata": {
    "id": "Egb5SII9wLLk"
   },
   "outputs": [],
   "source": [
    "# crnn2 = CRNN2()"
   ]
  },
  {
   "cell_type": "code",
   "execution_count": null,
   "metadata": {
    "id": "fQ7Pp2uX6kCz"
   },
   "outputs": [],
   "source": [
    "model = CRNN()\n",
    "criterion = nn.CTCLoss(blank=blank_label, reduction='mean', zero_infinity=True)\n",
    "optimizer = torch.optim.Adam(model.parameters(), lr=0.001)"
   ]
  },
  {
   "cell_type": "code",
   "execution_count": null,
   "metadata": {
    "id": "1EqEVtOtDOwW"
   },
   "outputs": [],
   "source": [
    "crnn = CRNN()"
   ]
  },
  {
   "cell_type": "code",
   "execution_count": null,
   "metadata": {
    "id": "k_MnHbDn4Ovx"
   },
   "outputs": [],
   "source": [
    "sample = next(iter(train_dataloader))\n"
   ]
  },
  {
   "cell_type": "code",
   "execution_count": null,
   "metadata": {
    "id": "CGM6IYya_eAa"
   },
   "outputs": [],
   "source": [
    "sample['image'].shape"
   ]
  },
  {
   "cell_type": "code",
   "execution_count": null,
   "metadata": {
    "id": "giwCXEbK0ssi"
   },
   "outputs": [],
   "source": [
    "\n",
    "with torch.no_grad():\n",
    "    images = sample['image']\n",
    "    output, hidden = crnn(images)\n",
    "    print(output.shape)"
   ]
  },
  {
   "cell_type": "code",
   "execution_count": null,
   "metadata": {
    "id": "vwug-_TT_yrD"
   },
   "outputs": [],
   "source": [
    "output.shape"
   ]
  },
  {
   "cell_type": "code",
   "execution_count": null,
   "metadata": {
    "id": "v4agvzagE3zy"
   },
   "outputs": [],
   "source": [
    "output[1][1].shape"
   ]
  },
  {
   "cell_type": "code",
   "execution_count": null,
   "metadata": {
    "id": "-Mfwh-XNFAKf"
   },
   "outputs": [],
   "source": [
    "ff = torch.rand(2, 3,4)\n",
    "\n",
    "\n",
    "\n"
   ]
  },
  {
   "cell_type": "code",
   "execution_count": null,
   "metadata": {
    "id": "E6PkJXJQQBPh"
   },
   "outputs": [],
   "source": [
    "ff.reshape(-1,4,2).shape"
   ]
  },
  {
   "cell_type": "code",
   "execution_count": null,
   "metadata": {
    "id": "k9E9bHzDQEUJ"
   },
   "outputs": [],
   "source": [
    "import torch\n",
    "input = torch.randn(1, 31, 64)\n",
    "m = torch.nn.LSTM(64,128,bidirectional=True)\n",
    "output,_ = m(input)\n",
    "print(output.shape)"
   ]
  },
  {
   "cell_type": "code",
   "execution_count": null,
   "metadata": {
    "id": "cdY-dgJvI7s0"
   },
   "outputs": [],
   "source": [
    "x.shape[0]"
   ]
  },
  {
   "cell_type": "code",
   "execution_count": null,
   "metadata": {
    "id": "wdse73Fgpvq7"
   },
   "outputs": [],
   "source": [
    "import torch\n",
    "x = torch.randn(256, 1, 63)\n",
    "out = torch.stack([i for i in range(x.shape[0])])\n",
    "print(out.shape)"
   ]
  },
  {
   "cell_type": "code",
   "execution_count": null,
   "metadata": {
    "id": "wqqaX3Kr_5Yb"
   },
   "outputs": [],
   "source": [
    "\n",
    "x.size()\n",
    "torch.permute(x, (2, 0, 1)).size()"
   ]
  },
  {
   "cell_type": "markdown",
   "metadata": {
    "id": "DDMNYUEp-cZk"
   },
   "source": [
    "# CRNN - Pytorch"
   ]
  },
  {
   "cell_type": "code",
   "execution_count": null,
   "metadata": {
    "colab": {
     "base_uri": "https://localhost:8080/"
    },
    "id": "gihU4ot-_-kn",
    "outputId": "d277c349-534c-4cdf-b122-4adf3c0899c3"
   },
   "outputs": [
    {
     "name": "stdout",
     "output_type": "stream",
     "text": [
      "Cloning into 'crnn-pytorch'...\n",
      "remote: Enumerating objects: 221, done.\u001b[K\n",
      "remote: Counting objects: 100% (62/62), done.\u001b[K\n",
      "remote: Compressing objects: 100% (30/30), done.\u001b[K\n",
      "remote: Total 221 (delta 46), reused 32 (delta 32), pack-reused 159 (from 1)\u001b[K\n",
      "Receiving objects: 100% (221/221), 28.13 MiB | 28.05 MiB/s, done.\n",
      "Resolving deltas: 100% (132/132), done.\n",
      "Mounted at /content/drive\n"
     ]
    }
   ],
   "source": [
    "!git clone https://github.com/tayyabmujahid/crnn-pytorch.git\n",
    "from google.colab import drive\n",
    "drive.mount('/content/drive')\n",
    "\n"
   ]
  },
  {
   "cell_type": "markdown",
   "metadata": {
    "id": "1VM_i_a2zs6l"
   },
   "source": [
    "### Copy MJSynth Dataset"
   ]
  },
  {
   "cell_type": "code",
   "execution_count": 6,
   "metadata": {
    "id": "XLXMl0-UzpXH"
   },
   "outputs": [
    {
     "name": "stdout",
     "output_type": "stream",
     "text": [
      "replace /home/mujahid/PycharmProjects/crnn-pytorch/data/mjsynth_sample/182_slinking_71711.jpg? [y]es, [n]o, [A]ll, [N]one, [r]ename: ^C\n"
     ]
    }
   ],
   "source": [
    "!unzip -qq ~/Downloads/mjsynth_sample.zip -d /home/mujahid/PycharmProjects/crnn-pytorch/data"
   ]
  },
  {
   "cell_type": "code",
   "execution_count": 11,
   "metadata": {},
   "outputs": [
    {
     "name": "stdout",
     "output_type": "stream",
     "text": [
      "/home/mujahid/PycharmProjects/crnn-pytorch/src\n"
     ]
    }
   ],
   "source": []
  },
  {
   "cell_type": "markdown",
   "metadata": {
    "id": "na-77OjIzyP5"
   },
   "source": [
    "### Copy IAM HW Dataset"
   ]
  },
  {
   "cell_type": "code",
   "execution_count": 8,
   "metadata": {
    "id": "_zoLWcJ6x7_a"
   },
   "outputs": [
    {
     "name": "stdout",
     "output_type": "stream",
     "text": [
      "mkdir: cannot create directory ‘/home/mujahid/PycharmProjects/crnn-pytorch/data/IAM_HW’: File exists\n",
      "mkdir: cannot create directory ‘/home/mujahid/PycharmProjects/crnn-pytorch/data/IAM_HW/words’: File exists\n",
      "mkdir: cannot create directory ‘/home/mujahid/PycharmProjects/crnn-pytorch/data/IAM_HW/xml’: File exists\n"
     ]
    }
   ],
   "source": [
    "!mkdir /home/mujahid/PycharmProjects/crnn-pytorch/data/IAM_HW\n",
    "!mkdir /home/mujahid/PycharmProjects/crnn-pytorch/data/IAM_HW/words\n",
    "!mkdir /home/mujahid/PycharmProjects/crnn-pytorch/data/IAM_HW/xml"
   ]
  },
  {
   "cell_type": "code",
   "execution_count": 10,
   "metadata": {
    "id": "LFNZLH2Szifn"
   },
   "outputs": [
    {
     "name": "stdout",
     "output_type": "stream",
     "text": [
      "unzip:  cannot find or open /content/drive/My Drive/Datasets/IAM_HW/rules.zip, /content/drive/My Drive/Datasets/IAM_HW/rules.zip.zip or /content/drive/My Drive/Datasets/IAM_HW/rules.zip.ZIP.\n",
      "tar (child): /content/drive/My Drive/Datasets/IAM_HW/words.tgz: Cannot open: No such file or directory\n",
      "tar (child): Error is not recoverable: exiting now\n",
      "tar: Child returned status 2\n",
      "tar: Error is not recoverable: exiting now\n",
      "tar (child): /content/drive/My Drive/Datasets/IAM_HW/xml.tgz: Cannot open: No such file or directory\n",
      "tar (child): Error is not recoverable: exiting now\n",
      "tar: Child returned status 2\n",
      "tar: Error is not recoverable: exiting now\n"
     ]
    }
   ],
   "source": [
    "!unzip -qq /content/drive/My\\ Drive/Datasets/IAM_HW/rules.zip -d /content/crnn-pytorch/data/IAM_HW/\n",
    "!tar -xzf /content/drive/My\\ Drive/Datasets/IAM_HW/words.tgz -C /content/crnn-pytorch/data/IAM_HW/words\n",
    "!tar -xzf /content/drive/My\\ Drive/Datasets/IAM_HW/xml.tgz -C /content/crnn-pytorch/data/IAM_HW/xml"
   ]
  },
  {
   "cell_type": "code",
   "execution_count": 13,
   "metadata": {
    "colab": {
     "base_uri": "https://localhost:8080/"
    },
    "id": "i1WXfjDPTLRt",
    "outputId": "eb8289cc-bb96-4c99-90fb-26856b40cbc2"
   },
   "outputs": [
    {
     "name": "stdout",
     "output_type": "stream",
     "text": [
      "[Errno 2] No such file or directory: 'crnn-pytorch/src'\n",
      "/home/mujahid/PycharmProjects/crnn-pytorch/src\n"
     ]
    }
   ],
   "source": [
    "%cd crnn-pytorch/src"
   ]
  },
  {
   "cell_type": "code",
   "execution_count": null,
   "metadata": {
    "colab": {
     "base_uri": "https://localhost:8080/"
    },
    "id": "pNeXlm7gTS1k",
    "outputId": "4d5080a2-3189-4b6c-a8be-b4a080dd1d5f"
   },
   "outputs": [
    {
     "name": "stdout",
     "output_type": "stream",
     "text": [
      "/content/crnn-pytorch/src\n"
     ]
    }
   ],
   "source": [
    "!pwd"
   ]
  },
  {
   "cell_type": "code",
   "execution_count": null,
   "metadata": {
    "id": "TkOQlJf7JxS4"
   },
   "outputs": [],
   "source": [
    "from evaluate import evaluate"
   ]
  },
  {
   "cell_type": "code",
   "execution_count": null,
   "metadata": {
    "id": "wzjXVisVTSEr"
   },
   "outputs": [],
   "source": [
    "from config import evaluate_config as config\n",
    "import torch\n",
    "from dataset import Synth90kDataset, synth90k_collate_fn,Synth90kSample,IAMDataset2,IAMDataset3\n",
    "from model import CRNN"
   ]
  },
  {
   "cell_type": "code",
   "execution_count": null,
   "metadata": {
    "colab": {
     "base_uri": "https://localhost:8080/"
    },
    "id": "lIt1QygJKU76",
    "outputId": "83643ae9-68d5-456c-b050-5963db3bd25b"
   },
   "outputs": [
    {
     "name": "stdout",
     "output_type": "stream",
     "text": [
      "device: cuda\n"
     ]
    }
   ],
   "source": [
    "eval_batch_size = config['eval_batch_size']\n",
    "cpu_workers = config['cpu_workers']\n",
    "reload_checkpoint = config['reload_checkpoint']\n",
    "\n",
    "img_height = config['img_height']\n",
    "img_width = config['img_width']\n",
    "device = torch.device('cuda' if torch.cuda.is_available() else 'cpu')\n",
    "print(f'device: {device}')"
   ]
  },
  {
   "cell_type": "code",
   "execution_count": null,
   "metadata": {
    "id": "V1308pGQUT8K"
   },
   "outputs": [],
   "source": [
    "num_class = len(Synth90kDataset.LABEL2CHAR) + 1\n",
    "\n",
    "crnn = CRNN(1, img_height, img_width, num_class,\n",
    "                map_to_seq_hidden=config['map_to_seq_hidden'],\n",
    "                rnn_hidden=config['rnn_hidden'],\n",
    "                leaky_relu=config['leaky_relu'])"
   ]
  },
  {
   "cell_type": "code",
   "execution_count": null,
   "metadata": {
    "colab": {
     "base_uri": "https://localhost:8080/"
    },
    "id": "epfis9Joa6Lu",
    "outputId": "c9305e05-24a2-42f4-f608-1bc05edfefc1"
   },
   "outputs": [
    {
     "name": "stdout",
     "output_type": "stream",
     "text": [
      "37\n"
     ]
    }
   ],
   "source": [
    "print(num_class)"
   ]
  },
  {
   "cell_type": "code",
   "execution_count": null,
   "metadata": {
    "id": "aRHQvTDYMoab"
   },
   "outputs": [],
   "source": []
  },
  {
   "cell_type": "code",
   "execution_count": null,
   "metadata": {
    "colab": {
     "base_uri": "https://localhost:8080/"
    },
    "id": "aYgegR4nUdeO",
    "outputId": "a9c7360e-8992-4384-c51c-ca834146ef14"
   },
   "outputs": [
    {
     "data": {
      "text/plain": [
       "<All keys matched successfully>"
      ]
     },
     "execution_count": 11,
     "metadata": {},
     "output_type": "execute_result"
    }
   ],
   "source": [
    "crnn.load_state_dict(torch.load('/content/crnn-pytorch/checkpoints/crnn_synth90k.pt',map_location=device))\n"
   ]
  },
  {
   "cell_type": "code",
   "execution_count": null,
   "metadata": {
    "colab": {
     "base_uri": "https://localhost:8080/"
    },
    "id": "svqhr8hJUwYx",
    "outputId": "6f87e1f2-8c04-4a6b-b147-5e26e1885212"
   },
   "outputs": [
    {
     "name": "stdout",
     "output_type": "stream",
     "text": [
      "CRNN(\n",
      "  (cnn): Sequential(\n",
      "    (conv0): Conv2d(1, 64, kernel_size=(3, 3), stride=(1, 1), padding=(1, 1))\n",
      "    (relu0): ReLU(inplace=True)\n",
      "    (pooling0): MaxPool2d(kernel_size=2, stride=2, padding=0, dilation=1, ceil_mode=False)\n",
      "    (conv1): Conv2d(64, 128, kernel_size=(3, 3), stride=(1, 1), padding=(1, 1))\n",
      "    (relu1): ReLU(inplace=True)\n",
      "    (pooling1): MaxPool2d(kernel_size=2, stride=2, padding=0, dilation=1, ceil_mode=False)\n",
      "    (conv2): Conv2d(128, 256, kernel_size=(3, 3), stride=(1, 1), padding=(1, 1))\n",
      "    (relu2): ReLU(inplace=True)\n",
      "    (conv3): Conv2d(256, 256, kernel_size=(3, 3), stride=(1, 1), padding=(1, 1))\n",
      "    (relu3): ReLU(inplace=True)\n",
      "    (pooling2): MaxPool2d(kernel_size=(2, 1), stride=(2, 1), padding=0, dilation=1, ceil_mode=False)\n",
      "    (conv4): Conv2d(256, 512, kernel_size=(3, 3), stride=(1, 1), padding=(1, 1))\n",
      "    (batchnorm4): BatchNorm2d(512, eps=1e-05, momentum=0.1, affine=True, track_running_stats=True)\n",
      "    (relu4): ReLU(inplace=True)\n",
      "    (conv5): Conv2d(512, 512, kernel_size=(3, 3), stride=(1, 1), padding=(1, 1))\n",
      "    (batchnorm5): BatchNorm2d(512, eps=1e-05, momentum=0.1, affine=True, track_running_stats=True)\n",
      "    (relu5): ReLU(inplace=True)\n",
      "    (pooling3): MaxPool2d(kernel_size=(2, 1), stride=(2, 1), padding=0, dilation=1, ceil_mode=False)\n",
      "    (conv6): Conv2d(512, 512, kernel_size=(2, 2), stride=(1, 1))\n",
      "    (relu6): ReLU(inplace=True)\n",
      "  )\n",
      "  (map_to_seq): Linear(in_features=512, out_features=64, bias=True)\n",
      "  (rnn1): LSTM(64, 256, bidirectional=True)\n",
      "  (rnn2): LSTM(512, 256, bidirectional=True)\n",
      "  (dense): Linear(in_features=512, out_features=37, bias=True)\n",
      ")\n"
     ]
    }
   ],
   "source": [
    "print(crnn)"
   ]
  },
  {
   "cell_type": "code",
   "execution_count": null,
   "metadata": {
    "colab": {
     "base_uri": "https://localhost:8080/"
    },
    "id": "RUctGxoqVFZd",
    "outputId": "d170ea98-2425-4b0a-b376-9929af534b4c"
   },
   "outputs": [
    {
     "name": "stdout",
     "output_type": "stream",
     "text": [
      "Children Counter:  0  Layer Name:  cnn\n",
      "Children Counter:  1  Layer Name:  map_to_seq\n",
      "Children Counter:  2  Layer Name:  rnn1\n",
      "Children Counter:  3  Layer Name:  rnn2\n",
      "Children Counter:  4  Layer Name:  dense\n"
     ]
    }
   ],
   "source": [
    "children_counter = 0\n",
    "for n,c in crnn.named_children():\n",
    "    print(\"Children Counter: \",children_counter,\" Layer Name: \",n,)\n",
    "    children_counter+=1"
   ]
  },
  {
   "cell_type": "code",
   "execution_count": null,
   "metadata": {
    "id": "HzV5BwjWCfaS"
   },
   "outputs": [],
   "source": [
    "\n",
    "# class PooledModel(torch.nn.Module):\n",
    "#     def __init__(self,crnn):\n",
    "#         super(PooledModel, self).__init__()\n",
    "#         self.intermediate_model = torch.nn.Sequential(*(list(crnn.children())[:-1]))\n",
    "#     def forward(self,x):\n",
    "#         x = self.intermediate_model(x)\n",
    "#         x = nn.AvgPool2d(x.size(-1))(x)\n",
    "#         x = x.squeeze(-1).squeeze(-1)\n",
    "#         return self.intermediate_model(x)\n",
    "\n",
    "intermediate_model = torch.nn.Sequential(*(list(crnn.children())[:-1]))"
   ]
  },
  {
   "cell_type": "code",
   "execution_count": null,
   "metadata": {
    "id": "RS5-B9xfHN0o"
   },
   "outputs": [],
   "source": [
    "### Dataset loading and Dataloader for MJSynth\n",
    "# data_path=\"/content/data/mnt/ramdisk/max/90kDICT32px\"\n",
    "# test_dataset = Synth90kDataset(root_dir=data_path, mode='test',\n",
    "#                                    img_height=img_height, img_width=img_width)\n",
    "sample_data_path = '/content/data/mjsynth_sample'\n",
    "test_dataset = Synth90kSample(root_dir=sample_data_path, mode='validation',split=0.0,\n",
    "                                   img_height=img_height, img_width=img_width)\n",
    "\n",
    "test_dataloader = torch.utils.data.DataLoader(\n",
    "    test_dataset, batch_size=512,\n",
    "    shuffle=False,collate_fn=synth90k_collate_fn)"
   ]
  },
  {
   "cell_type": "code",
   "execution_count": null,
   "metadata": {
    "id": "MEAt6qV61B7j"
   },
   "outputs": [],
   "source": [
    "\n",
    "iam_hw_dataset = IAMDataset2(ttype='val',img_height=img_height, img_width=img_width)\n",
    "\n",
    "test_dataloader = torch.utils.data.DataLoader(\n",
    "    iam_hw_dataset, batch_size=512,\n",
    "    shuffle=False,collate_fn=synth90k_collate_fn)"
   ]
  },
  {
   "cell_type": "code",
   "execution_count": null,
   "metadata": {
    "id": "UFRklCCEEU7k"
   },
   "outputs": [],
   "source": [
    "# iam_hw_dataset.word_strings"
   ]
  },
  {
   "cell_type": "code",
   "execution_count": null,
   "metadata": {
    "id": "fQGuOwbmKzXq"
   },
   "outputs": [],
   "source": []
  },
  {
   "cell_type": "code",
   "execution_count": null,
   "metadata": {
    "id": "zr58FnxFMp89"
   },
   "outputs": [],
   "source": [
    "import numpy as np"
   ]
  },
  {
   "cell_type": "code",
   "execution_count": null,
   "metadata": {
    "colab": {
     "base_uri": "https://localhost:8080/",
     "height": 35
    },
    "id": "b_c2VUJWdk0X",
    "outputId": "803e805c-3b4d-4e88-f729-972e12c60eb7"
   },
   "outputs": [
    {
     "data": {
      "application/vnd.google.colaboratory.intrinsic+json": {
       "type": "string"
      },
      "text/plain": [
       "'0123456789abcdefghijklmnopqrstuvwxyz'"
      ]
     },
     "execution_count": 21,
     "metadata": {},
     "output_type": "execute_result"
    }
   ],
   "source": [
    "iam_hw_dataset.CHARS"
   ]
  },
  {
   "cell_type": "code",
   "execution_count": null,
   "metadata": {
    "colab": {
     "base_uri": "https://localhost:8080/"
    },
    "id": "J9D2dJTNM0Hb",
    "outputId": "cd892148-84e5-4171-b72d-a51f94a49270"
   },
   "outputs": [
    {
     "name": "stderr",
     "output_type": "stream",
     "text": [
      "Wordspotting Evaluate:   0%|          | 0/12 [00:00<?, ?it/s]\n",
      "Wordspotting Evaluate:   8%|▊         | 1/12 [00:16<03:03, 16.68s/it]\n",
      "Wordspotting Evaluate:  17%|█▋        | 2/12 [00:31<02:36, 15.66s/it]\n",
      "Wordspotting Evaluate:  25%|██▌       | 3/12 [00:46<02:16, 15.11s/it]\n",
      "Wordspotting Evaluate:  33%|███▎      | 4/12 [01:00<01:58, 14.77s/it]\n",
      "Wordspotting Evaluate:  42%|████▏     | 5/12 [01:14<01:42, 14.62s/it]\n",
      "Wordspotting Evaluate:  50%|█████     | 6/12 [01:29<01:27, 14.62s/it]\n",
      "Wordspotting Evaluate:  58%|█████▊    | 7/12 [01:43<01:12, 14.60s/it]\n",
      "Wordspotting Evaluate:  67%|██████▋   | 8/12 [01:58<00:58, 14.56s/it]\n",
      "Wordspotting Evaluate:  75%|███████▌  | 9/12 [02:12<00:43, 14.54s/it]\n",
      "Wordspotting Evaluate:  83%|████████▎ | 10/12 [02:27<00:29, 14.50s/it]\n",
      "Wordspotting Evaluate:  92%|█████████▏| 11/12 [02:43<00:14, 14.91s/it]\n",
      "Wordspotting Evaluate: 100%|██████████| 12/12 [02:43<00:00, 10.46s/it]\n",
      "100%|██████████| 12/12 [02:43<00:00, 13.61s/it]\n",
      "Wordspotting Evaluate: 100%|██████████| 12/12 [02:43<00:00, 13.61s/it]\n"
     ]
    },
    {
     "name": "stdout",
     "output_type": "stream",
     "text": [
      "starting MAP calculations\n",
      "5644\n",
      "(5644, 24)\n",
      "0.4146227072495958\n",
      "[0.35261238 1.         0.05841179 ... 0.25165984 0.33631446 0.16482188]\n"
     ]
    }
   ],
   "source": [
    "from tqdm import tqdm\n",
    "import numpy as np\n",
    "def evaluate_word_spotting(crnn, dataset,dataloader):\n",
    "    preds_list = list()\n",
    "    targets_list = list()\n",
    "    crnn.eval()\n",
    "    pbar_total = len(dataloader)\n",
    "    pbar = tqdm(total=pbar_total, desc=\"Wordspotting Evaluate\")\n",
    "\n",
    "    with torch.no_grad():\n",
    "        for i, data in enumerate(tqdm(dataloader)):\n",
    "            device = 'cuda' if next(crnn.parameters()).is_cuda else 'cpu'\n",
    "\n",
    "            images, targets, target_lengths = [d.to(device) for d in data]\n",
    "            targets_list.append(targets)\n",
    "\n",
    "            _, pred_vec = crnn(images)\n",
    "            pred_vec = torch.squeeze(pred_vec)\n",
    "            pred_vec = torch.mean(pred_vec, 2)\n",
    "            pred_vec = pred_vec.cpu().numpy()\n",
    "            preds_list.append(pred_vec)\n",
    "            pbar.update(1)\n",
    "    pbar.close()\n",
    "    print(\"starting MAP calculations\")\n",
    "    preds_array = [list(i.T) for i in preds_list]\n",
    "    lbl_array = dataset.word_strings\n",
    "\n",
    "    preds_array = [item for sublist in preds_array for item in sublist]\n",
    "    print(len(preds_array))\n",
    "    preds_array = np.array(preds_array)\n",
    "    print(preds_array.shape)\n",
    "    mAP, avg_precs = map_from_feature_matrix(preds_array, lbl_array, 'euclidean', False)\n",
    "    print(mAP)\n",
    "    print(avg_precs)\n",
    "    return preds_list, targets_list\n",
    "\n",
    "a, b = evaluate_word_spotting(crnn,iam_hw_dataset, test_dataloader)"
   ]
  },
  {
   "cell_type": "code",
   "execution_count": null,
   "metadata": {
    "colab": {
     "base_uri": "https://localhost:8080/"
    },
    "id": "GntpXWtwby1W",
    "outputId": "35627860-2817-4a37-c764-912d314e35fa"
   },
   "outputs": [
    {
     "name": "stdout",
     "output_type": "stream",
     "text": [
      "12\n",
      "<class 'numpy.ndarray'>\n",
      "5644\n",
      "(5644, 24)\n"
     ]
    }
   ],
   "source": [
    "print(len(a))\n",
    "print(type(a[0]))\n",
    "preds_array = [list(i.T) for i in a]\n",
    "\n",
    "\n",
    "preds_array = [item for sublist in preds_array for item in sublist]\n",
    "print(len(preds_array))\n",
    "preds_array = np.array(preds_array)\n",
    "print(preds_array.shape)"
   ]
  },
  {
   "cell_type": "code",
   "execution_count": null,
   "metadata": {
    "colab": {
     "base_uri": "https://localhost:8080/"
    },
    "id": "1r_M8Nl4fFRM",
    "outputId": "528b1fc7-537d-489f-8a78-533269547f3a"
   },
   "outputs": [
    {
     "data": {
      "text/plain": [
       "(24,)"
      ]
     },
     "execution_count": 30,
     "metadata": {},
     "output_type": "execute_result"
    }
   ],
   "source": [
    "preds_array[0].shape"
   ]
  },
  {
   "cell_type": "code",
   "execution_count": null,
   "metadata": {
    "id": "NP_I2KzOh5Mr"
   },
   "outputs": [],
   "source": [
    "import numpy as np\n",
    "from datetime import datetime\n",
    "\n",
    "from scipy.spatial.distance import pdist, squareform\n",
    "\n",
    "\n",
    "def mean_average_precision(model, x_test, y_test, transcripts):\n",
    "    \"\"\"This module evaluates the partially trained model using Test Data\n",
    "  Args:\n",
    "    model: Instance of Sequential Class storing Neural Network\n",
    "    x_test: Numpy storing the Test Images\n",
    "    y_test: Numpy storing the PHOC Labels of Test Data\n",
    "    transcripts: String storing the characters in the Image.\n",
    "  Returns:\n",
    "    map: Floating number storing the Mean Average Precision.\n",
    "  \"\"\"\n",
    "    start = datetime.now()\n",
    "    y_pred = model.predict(x_test)\n",
    "    y_pred = np.where(y_pred < 0.5, 0, 1)\n",
    "    print(\"Time taken to predict all data: \", datetime.now() - start)\n",
    "    start = datetime.now()\n",
    "    N = len(transcripts)\n",
    "    precision = {}\n",
    "    count = {}\n",
    "    for i in range(N):\n",
    "        if transcripts[i] not in precision.keys():\n",
    "            precision[transcripts[i]] = 1\n",
    "            count[transcripts[i]] = 0\n",
    "        else:\n",
    "            precision[transcripts[i]] += 1\n",
    "\n",
    "    for i in range(N):\n",
    "        pred = y_pred[i]\n",
    "        acc = np.sum(abs(y_test - pred), axis=1)\n",
    "        tmp = np.argmin(acc)\n",
    "        if transcripts[tmp] == transcripts[i]:\n",
    "            count[transcripts[tmp]] += 1\n",
    "\n",
    "    mean_avg_prec = [0, 0]\n",
    "    for i in range(N):\n",
    "        if precision[transcripts[i]] <= 1:\n",
    "            continue\n",
    "        mean_avg_prec[0] += count[transcripts[i]] * 1.0 / precision[transcripts[i]]\n",
    "        mean_avg_prec[1] += 1\n",
    "\n",
    "    print(\"Time taken to calculate l2 dist: \", datetime.now() - start)\n",
    "    print(\"The Mean Average Precision = \", mean_avg_prec[0] * 1. / mean_avg_prec[1])\n",
    "    print(\"Total test cases = \", N)\n",
    "\n",
    "\n",
    "# load data and corresponding transcripts\n",
    "#\n",
    "\n",
    "\n",
    "def map_from_feature_matrix(features, labels, metric, drop_first):\n",
    "    '''\n",
    "    Computes mAP and APs from a given matrix of feature vectors\n",
    "    Each sample is used as a query once and all the other samples are\n",
    "    used for testing. The user can specify whether he wants to include\n",
    "    the query in the test results as well or not.\n",
    "\n",
    "    Args:\n",
    "        features (2d-ndarray): the feature representation from which to compute the mAP\n",
    "        labels (1d-ndarray or list): the labels corresponding to the features (either numeric or characters)\n",
    "        metric (string): the metric to be used in calculating the mAP\n",
    "        drop_first (bool): whether to drop the first retrieval result or not\n",
    "    '''\n",
    "    # argument error checks\n",
    "    if features.shape[0] != len(labels):\n",
    "        raise ValueError('The number of feature vectors and number of labels must match')\n",
    "    # compute the pairwise distances from the\n",
    "    # features\n",
    "    dists = pdist(X=features, metric=metric)\n",
    "    dists = squareform(dists)\n",
    "    inds = np.argsort(dists, axis=1)\n",
    "    retr_mat = np.tile(labels, (features.shape[0], 1))\n",
    "\n",
    "    # compute two matrices for selecting rows and columns\n",
    "    # from the label matrix\n",
    "    # -> advanced indexing\n",
    "    row_selector = np.transpose(np.tile(np.arange(features.shape[0]), (features.shape[0], 1)))\n",
    "    retr_mat = retr_mat[row_selector, inds]\n",
    "\n",
    "    # create the relevance matrix\n",
    "    rel_matrix = retr_mat == np.atleast_2d(labels).T\n",
    "    if drop_first:\n",
    "        rel_matrix = rel_matrix[:, 1:]\n",
    "\n",
    "    # calculate mAP and APs\n",
    "    map_calc = MeanAveragePrecision()\n",
    "    avg_precs = np.array([map_calc.average_precision(row) for row in rel_matrix])\n",
    "    mAP = np.mean(avg_precs)\n",
    "    return mAP, avg_precs\n",
    "\n",
    "class IterativeMean(object):\n",
    "    '''\n",
    "    Class for iteratively computing a mean. With every new value (@see: _add_value)\n",
    "    the mean will be updated\n",
    "    '''\n",
    "\n",
    "    def __init__(self, mean_init=0.0):\n",
    "        self.__mean = mean_init\n",
    "        self.__N = 0.0\n",
    "\n",
    "    def add_value(self, value):\n",
    "        '''\n",
    "        Updates the mean with respect to value\n",
    "\n",
    "        Args:\n",
    "            value (float): The value that will be incorporated in the mean\n",
    "        '''\n",
    "        self.__mean = (self.__N / (self.__N + 1)) * self.__mean + (1.0 / (self.__N + 1)) * value\n",
    "        self.__N += 1\n",
    "\n",
    "    def get_mean(self):\n",
    "        return self.__mean\n",
    "\n",
    "    def reset(self):\n",
    "        self.__mean = 0.0\n",
    "        self.__N = 0.0\n",
    "\n",
    "\n",
    "class MeanAveragePrecision(IterativeMean):\n",
    "    '''\n",
    "    Computes average precision values and iteratively updates their mean\n",
    "    '''\n",
    "    def __init__(self):\n",
    "        super(MeanAveragePrecision, self).__init__()\n",
    "\n",
    "    def average_precision(self, ret_vec_relevance, gt_relevance_num=None):\n",
    "        '''\n",
    "        Computes the average precision and updates the mean average precision\n",
    "\n",
    "        Args:\n",
    "            ret_vec_relevance (1d-ndarray): array containing ground truth (gt) relevance values\n",
    "            gt_relevance_num (int): The number of relevant samples in retrieval. If None the sum\n",
    "                                    over the retrieval gt list is used.\n",
    "        '''\n",
    "        ret_vec_cumsum = np.cumsum(ret_vec_relevance, dtype=float)\n",
    "        ret_vec_range = np.arange(1, ret_vec_relevance.size + 1)\n",
    "        ret_vec_precision = ret_vec_cumsum / ret_vec_range\n",
    "\n",
    "        if gt_relevance_num is None:\n",
    "            n_relevance = ret_vec_relevance.sum()\n",
    "        else:\n",
    "            n_relevance = gt_relevance_num\n",
    "\n",
    "        if n_relevance > 0:\n",
    "            ret_vec_ap = (ret_vec_precision * ret_vec_relevance).sum() / n_relevance\n",
    "        else:\n",
    "            ret_vec_ap = 0.0\n",
    "\n",
    "        super(MeanAveragePrecision, self).add_value(ret_vec_ap)\n",
    "\n",
    "        return ret_vec_ap"
   ]
  },
  {
   "cell_type": "code",
   "execution_count": null,
   "metadata": {
    "id": "GvnQWFp8UaU6"
   },
   "outputs": [],
   "source": [
    "# lbl_array = test_dataset.texts\n",
    "lbl_array = iam_hw_dataset.word_strings"
   ]
  },
  {
   "cell_type": "code",
   "execution_count": null,
   "metadata": {
    "colab": {
     "base_uri": "https://localhost:8080/",
     "height": 193
    },
    "id": "zKD2_LxTEj2U",
    "outputId": "05fb6ae6-9b77-4cce-8f90-3a4a4dd98bf0"
   },
   "outputs": [
    {
     "ename": "NameError",
     "evalue": "name 'map_from_feature_matrix' is not defined",
     "output_type": "error",
     "traceback": [
      "\u001b[0;31m---------------------------------------------------------------------------\u001b[0m",
      "\u001b[0;31mNameError\u001b[0m                                 Traceback (most recent call last)",
      "\u001b[0;32m<ipython-input-1-856c4bd04b49>\u001b[0m in \u001b[0;36m<cell line: 1>\u001b[0;34m()\u001b[0m\n\u001b[0;32m----> 1\u001b[0;31m \u001b[0mmAP\u001b[0m\u001b[0;34m,\u001b[0m \u001b[0mavg_precs\u001b[0m \u001b[0;34m=\u001b[0m \u001b[0mmap_from_feature_matrix\u001b[0m\u001b[0;34m(\u001b[0m\u001b[0mpreds_array\u001b[0m\u001b[0;34m,\u001b[0m \u001b[0mlbl_array\u001b[0m\u001b[0;34m,\u001b[0m \u001b[0;34m'euclidean'\u001b[0m\u001b[0;34m,\u001b[0m \u001b[0;32mFalse\u001b[0m\u001b[0;34m)\u001b[0m\u001b[0;34m\u001b[0m\u001b[0;34m\u001b[0m\u001b[0m\n\u001b[0m\u001b[1;32m      2\u001b[0m \u001b[0mprint\u001b[0m\u001b[0;34m(\u001b[0m\u001b[0mmAP\u001b[0m\u001b[0;34m,\u001b[0m \u001b[0mavg_precs\u001b[0m\u001b[0;34m)\u001b[0m\u001b[0;34m\u001b[0m\u001b[0;34m\u001b[0m\u001b[0m\n\u001b[1;32m      3\u001b[0m \u001b[0mprint\u001b[0m\u001b[0;34m(\u001b[0m\u001b[0;34m'=============================='\u001b[0m\u001b[0;34m)\u001b[0m\u001b[0;34m\u001b[0m\u001b[0;34m\u001b[0m\u001b[0m\n",
      "\u001b[0;31mNameError\u001b[0m: name 'map_from_feature_matrix' is not defined"
     ]
    }
   ],
   "source": [
    "mAP, avg_precs = map_from_feature_matrix(preds_array, lbl_array, 'euclidean', False)\n",
    "print(mAP, avg_precs)\n",
    "print('==============================')"
   ]
  },
  {
   "cell_type": "code",
   "execution_count": null,
   "metadata": {
    "id": "mZ_mRTRywGis"
   },
   "outputs": [],
   "source": [
    "#   dists = pdist(X=features, metric=metric)\n",
    "#     dists = squareform(dists)\n",
    "#     inds = np.argsort(dists, axis=1)\n",
    "#     retr_mat = np.tile(labels, (features.shape[0], 1))\n",
    "\n",
    "#     # compute two matrices for selecting rows and columns\n",
    "#     # from the label matrix\n",
    "#     # -> advanced indexing\n",
    "#     row_selector = np.transpose(np.tile(np.arange(features.shape[0]), (features.shape[0], 1)))\n",
    "#     retr_mat = retr_mat[row_selector, inds]\n",
    "\n",
    "#     # create the relevance matrix\n",
    "#     rel_matrix = retr_mat == np.atleast_2d(labels).T\n",
    "#     if drop_first:\n",
    "#         rel_matrix = rel_matrix[:, 1:]\n",
    "\n",
    "#     # calculate mAP and APs\n",
    "#     map_calc = MeanAveragePrecision()\n",
    "#     avg_precs = np.array([map_calc.average_precision(row) for row in rel_matrix])\n",
    "#     mAP = np.mean(avg_precs)"
   ]
  },
  {
   "cell_type": "code",
   "execution_count": null,
   "metadata": {
    "colab": {
     "base_uri": "https://localhost:8080/"
    },
    "id": "qMUS1vQI7dt-",
    "outputId": "30898810-c5e8-420d-ccf0-0a191b92581c"
   },
   "outputs": [
    {
     "name": "stdout",
     "output_type": "stream",
     "text": [
      "/content/crnn-pytorch\n",
      "/content/crnn-pytorch\n"
     ]
    }
   ],
   "source": [
    "%cd ..\n",
    "!pwd"
   ]
  },
  {
   "cell_type": "code",
   "execution_count": null,
   "metadata": {
    "colab": {
     "base_uri": "https://localhost:8080/"
    },
    "id": "lHAiNsO2l95i",
    "outputId": "e560219f-a324-4816-bf3c-998bd7b4d6bf"
   },
   "outputs": [
    {
     "name": "stdout",
     "output_type": "stream",
     "text": [
      "device: cuda\n",
      "/usr/local/lib/python3.10/dist-packages/torch/utils/data/dataloader.py:558: UserWarning: This DataLoader will create 4 worker processes in total. Our suggested max number of worker in current system is 2, which is smaller than what this DataLoader is going to create. Please be aware that excessive worker creation might get DataLoader running slow or even freeze, lower the worker number to avoid potential slowness/freeze if necessary.\n",
      "  warnings.warn(_create_warning_msg(\n",
      "Reloading Checkpoint\n",
      "epoch: 1\n",
      "/usr/local/lib/python3.10/dist-packages/torch/utils/data/dataloader.py:558: UserWarning: This DataLoader will create 4 worker processes in total. Our suggested max number of worker in current system is 2, which is smaller than what this DataLoader is going to create. Please be aware that excessive worker creation might get DataLoader running slow or even freeze, lower the worker number to avoid potential slowness/freeze if necessary.\n",
      "  warnings.warn(_create_warning_msg(\n",
      "/usr/lib/python3.10/multiprocessing/popen_fork.py:66: RuntimeWarning: os.fork() was called. os.fork() is incompatible with multithreaded code, and JAX is multithreaded, so this will likely lead to a deadlock.\n",
      "  self.pid = os.fork()\n",
      "train_batch_loss[ 500 ]:  1.1580798625946045\n",
      "Evaluate: 100% 23/23 [00:11<00:00,  2.04it/s]\n",
      "valid_evaluation: loss=3.0926920287947013, acc=0.5511686947386851\n",
      "Wordspotting Evaluation:   0% 0/23 [00:00<?, ?it/s]\n",
      "Wordspotting Evaluation:   4% 1/23 [00:01<00:30,  1.39s/it]\n",
      "Wordspotting Evaluation:   9% 2/23 [00:01<00:16,  1.25it/s]\n",
      "Wordspotting Evaluation:  13% 3/23 [00:02<00:12,  1.60it/s]\n",
      "Wordspotting Evaluation:  17% 4/23 [00:02<00:10,  1.83it/s]\n",
      "Wordspotting Evaluation:  22% 5/23 [00:02<00:08,  2.09it/s]\n",
      "Wordspotting Evaluation:  26% 6/23 [00:03<00:07,  2.21it/s]\n",
      "Wordspotting Evaluation:  30% 7/23 [00:03<00:07,  2.27it/s]\n",
      "Wordspotting Evaluation:  35% 8/23 [00:04<00:06,  2.29it/s]\n",
      "Wordspotting Evaluation:  39% 9/23 [00:04<00:06,  2.23it/s]\n",
      "Wordspotting Evaluation:  43% 10/23 [00:05<00:06,  2.15it/s]\n",
      "Wordspotting Evaluation:  48% 11/23 [00:05<00:05,  2.22it/s]\n",
      "Wordspotting Evaluation:  52% 12/23 [00:06<00:04,  2.23it/s]\n",
      "Wordspotting Evaluation:  57% 13/23 [00:06<00:04,  2.26it/s]\n",
      "Wordspotting Evaluation:  61% 14/23 [00:06<00:04,  2.24it/s]\n",
      "Wordspotting Evaluation:  65% 15/23 [00:07<00:03,  2.29it/s]\n",
      "Wordspotting Evaluation:  70% 16/23 [00:07<00:03,  2.24it/s]\n",
      "Wordspotting Evaluation:  74% 17/23 [00:08<00:02,  2.21it/s]\n",
      "Wordspotting Evaluation:  78% 18/23 [00:08<00:02,  2.35it/s]\n",
      "Wordspotting Evaluation:  83% 19/23 [00:09<00:01,  2.46it/s]\n",
      "Wordspotting Evaluation:  87% 20/23 [00:09<00:01,  2.56it/s]\n",
      "Wordspotting Evaluation:  91% 21/23 [00:09<00:00,  2.64it/s]\n",
      "Wordspotting Evaluation:  96% 22/23 [00:10<00:00,  2.66it/s]\n",
      "Wordspotting Evaluation: 100% 23/23 [00:10<00:00,  3.38it/s]\n",
      "100% 23/23 [00:10<00:00,  2.24it/s]\n",
      "Wordspotting Evaluation: 100% 23/23 [00:10<00:00,  2.24it/s]\n",
      "from metrics \n",
      "(24,)\n",
      "11423\n",
      "Traceback (most recent call last):\n",
      "  File \"/content/crnn-pytorch/src/train.py\", line 131, in <module>\n",
      "    main()\n",
      "  File \"/content/crnn-pytorch/src/train.py\", line 113, in main\n",
      "    wrd_spotting_evaluation = evaluate_word_spotting(crnn, valid_dataset, valid_loader)\n",
      "  File \"/content/crnn-pytorch/src/evaluate.py\", line 44, in evaluate_word_spotting\n",
      "    mAP, avg_precs = map_from_feature_matrix(preds_array, lbl_array, 'euclidean', False)\n",
      "  File \"/content/crnn-pytorch/src/metrics.py\", line 90, in map_from_feature_matrix\n",
      "    raise ValueError('The number of feature vectors and number of labels must match')\n",
      "ValueError: The number of feature vectors and number of labels must match\n"
     ]
    }
   ],
   "source": [
    "!python src/train.py"
   ]
  },
  {
   "cell_type": "code",
   "execution_count": null,
   "metadata": {
    "id": "n46JzK16pxsF"
   },
   "outputs": [],
   "source": [
    "import tracemalloc\n",
    "\n",
    "# code or function for which memory\n",
    "# has to be monitored\n",
    "\n",
    "\n",
    "# starting the monitoring\n",
    "tracemalloc.start()\n",
    "\n",
    "# function call\n",
    "map_from_feature_matrix(x,['a','b','a','b','c','a','b','a','b','c'],'euclidean',False)\n",
    "\n",
    "# displaying the memory\n",
    "print(tracemalloc.get_traced_memory())\n",
    "\n",
    "# stopping the library\n",
    "tracemalloc.stop()"
   ]
  },
  {
   "cell_type": "code",
   "execution_count": null,
   "metadata": {
    "id": "PY_hmhzWqtXd"
   },
   "outputs": [],
   "source": [
    "retr_mat = np.tile(['a','b','a','b','c','a','b','a','b','c'], (x.shape[0], 1))\n",
    "retr_mat"
   ]
  },
  {
   "cell_type": "code",
   "execution_count": null,
   "metadata": {
    "id": "QwIp49OqsxTM"
   },
   "outputs": [],
   "source": [
    "retr_mat.shape"
   ]
  },
  {
   "cell_type": "code",
   "execution_count": null,
   "metadata": {
    "colab": {
     "base_uri": "https://localhost:8080/"
    },
    "id": "4lUVFgpBs77t",
    "outputId": "53fc904c-0c2a-46ae-8c72-4c1c4317e019"
   },
   "outputs": [
    {
     "name": "stdout",
     "output_type": "stream",
     "text": [
      "{'H', 'e', 'c', 'B', 'L', 'l', 'D', 'z', '2', 'h', 'S', 'O', '6', 'i', 'K', 'd', 'T', 'g', '9', 'f', 'x', 's', 'k', \"'\", 'Y', 'b', 'w', 'C', ',', '5', '4', 'A', 'I', '.', 'm', 'q', 'J', '3', 'r', 'P', 'y', 'N', 'j', 'F', 'n', 'v', 'p', 'M', 'R', 'u', 'o', 't', '7', 'W', 'V', 'E', '1', 'G', '0', 'Q', 'U', 'a', '-', '8'}\n"
     ]
    }
   ],
   "source": [
    "ws = iam_hw_dataset.word_strings\n",
    "a = list()\n",
    "for w in ws:\n",
    "    for i in w:\n",
    "        a.append(i)\n",
    "a = set(a)\n",
    "print(a)"
   ]
  },
  {
   "cell_type": "code",
   "execution_count": null,
   "metadata": {
    "colab": {
     "base_uri": "https://localhost:8080/"
    },
    "id": "NNpsO1CuR0G_",
    "outputId": "b966190f-efaa-4f04-8adc-4ede9639a7b0"
   },
   "outputs": [
    {
     "data": {
      "text/plain": [
       "['a', 'b', 's', 'd', 'c']"
      ]
     },
     "execution_count": 20,
     "metadata": {},
     "output_type": "execute_result"
    }
   ],
   "source": [
    "p = 'absdc'\n",
    "[*p]"
   ]
  },
  {
   "cell_type": "code",
   "execution_count": null,
   "metadata": {
    "id": "XoYtaUQ5Qka_"
   },
   "outputs": [],
   "source": [
    "a = 'a,v'\n",
    "a.replace(',','')\n",
    "a = a.replace(',','')"
   ]
  },
  {
   "cell_type": "code",
   "execution_count": null,
   "metadata": {
    "colab": {
     "base_uri": "https://localhost:8080/",
     "height": 35
    },
    "id": "XFKeeJ1zUsKA",
    "outputId": "5b1cf3aa-d46b-488e-f9f7-25f13f6609d5"
   },
   "outputs": [
    {
     "data": {
      "application/vnd.google.colaboratory.intrinsic+json": {
       "type": "string"
      },
      "text/plain": [
       "'av'"
      ]
     },
     "execution_count": 25,
     "metadata": {},
     "output_type": "execute_result"
    }
   ],
   "source": [
    "a"
   ]
  },
  {
   "cell_type": "code",
   "execution_count": null,
   "metadata": {
    "colab": {
     "base_uri": "https://localhost:8080/"
    },
    "id": "CPKD42m0Uw26",
    "outputId": "380063cc-0377-4b3f-93ed-0cb1af3633da"
   },
   "outputs": [
    {
     "name": "stdout",
     "output_type": "stream",
     "text": [
      "/content/data/mjsynth_sample/211_CRAWDAD_17866.jpg\n",
      "/content/crnn-pytorch/data/IAM_HW/words/a01/a01-000u/a01-000u-06-03.png\n"
     ]
    }
   ],
   "source": [
    "from PIL import Image\n",
    "import os\n",
    "\n",
    "paths = os.listdir('/content/data/mjsynth_sample')\n",
    "paths = [os.path.join('/content/data/mjsynth_sample',i) for i in paths]\n",
    "print(paths[0])\n",
    "pil_image = Image.open(paths[10]).convert('RGB')\n",
    "\n",
    "root = \"/content/crnn-pytorch/data/IAM_HW/words/a01/a01-000u\"\n",
    "paths1 = os.listdir(root)\n",
    "paths1 = [os.path.join(root,i) for i in paths1]\n",
    "print(paths1[10])\n",
    "pil_image1 = Image.open(paths1[10]).convert('RGB')\n"
   ]
  },
  {
   "cell_type": "code",
   "execution_count": null,
   "metadata": {
    "id": "EoxEDIcC3g2i"
   },
   "outputs": [],
   "source": [
    "from dataset import Synth90kDataset, synth90k_collate_fn,Synth90kSample,IAMDataset2,IAMDataset3"
   ]
  },
  {
   "cell_type": "code",
   "execution_count": null,
   "metadata": {
    "colab": {
     "base_uri": "https://localhost:8080/"
    },
    "id": "S2RInPzVo5ug",
    "outputId": "ba53e227-b706-4418-feff-793cd1df4b0a"
   },
   "outputs": [
    {
     "name": "stdout",
     "output_type": "stream",
     "text": [
      "(140, 31)\n",
      "(165, 73)\n"
     ]
    }
   ],
   "source": [
    "print(pil_image.size)\n",
    "print(pil_image1.size)"
   ]
  },
  {
   "cell_type": "code",
   "execution_count": null,
   "metadata": {
    "colab": {
     "base_uri": "https://localhost:8080/"
    },
    "collapsed": true,
    "id": "bQ8iFldQl7Sm",
    "jupyter": {
     "outputs_hidden": true
    },
    "outputId": "78bdd328-c91a-478c-e15b-45d87812b8bb"
   },
   "outputs": [
    {
     "data": {
      "text/plain": [
       "(121, 31)"
      ]
     },
     "execution_count": 13,
     "metadata": {},
     "output_type": "execute_result"
    }
   ],
   "source": [
    "pil_image.size"
   ]
  },
  {
   "cell_type": "code",
   "execution_count": null,
   "metadata": {
    "colab": {
     "base_uri": "https://localhost:8080/",
     "height": 472,
     "referenced_widgets": [
      "6ac13fe45f3843038676fbca3fdf4475",
      "153d23ce75524e4eb1747bd6f7a514e4",
      "1ceb27e57e61490ba46932bf47a050b9",
      "b8e5ce5e3c01440596f1b541e1e85a37",
      "9592d3e0e482490fba8bc6c7926e150e",
      "ef0cf2b10e6b41838404c67c5e94923a",
      "15c1cdde80e74c51a2a2519245263c49",
      "4ebe00b1c5bd44a882914b10ffea2214",
      "e5c970a4cf5d4ea490a5b83514707eb7",
      "b50924f4ba9e4d3bb5df1628e50146be",
      "ebf8794edc1245118cb2a2ba5a346d76",
      "f506870964224da19065b7e07a85f1db",
      "a5cd1248fa17401ba882c75a58c12a2e",
      "33cef35231634075b27bf406b757f065",
      "a8d9d5258da548f5b00c6d5b6c0b250f",
      "83b962548015424e8472505088c62908",
      "fd58061acdba471a86d7225edd5d8b56",
      "579f4edd4402490d87194d94a0bc8c3f",
      "00a64ac276c840af9c0e56d64bef8e0f",
      "62deb3b32a384f3498381119bf12e7f2",
      "64a410fbb9184b6fa677b772008bfbac",
      "eb737b33347548b68b5e3bbca4bc7af0",
      "9cf48e4982cf4e0bb2ea88b4641000d9",
      "d54262167f844a038aa545036add933a",
      "eb18a6e2c88b4ede8c7ccd7f5ce9d037",
      "da5e169352cf4047924297d8af4c6e49",
      "45dd9b4725324df795a8edc63c0db495",
      "5c04d002068649639bed432913fecca3",
      "639878d38cc4437d94ada2dd72a9b3ac",
      "b0afbed3e5e647eebc46aac040671b48",
      "445d56352e1c4f3eaec8399fcdd70f8b",
      "764e806b714746aebdaaf8d8710236a3",
      "4abe6fe62556453582c83f26fa5908d4",
      "da195fa048794d9aaa933ebc18f90dce",
      "b0f9df691bdb41a292addca3552dacee",
      "083e4da6a4e74441a4e23f92ec17ab73",
      "4f4193be57e947bdbbd0f317e594d038",
      "f44297c306434aa0932e476d8b9fa9d2",
      "e4ee7d7437de41318b81e0fd319fd1c5",
      "f0c718ac3e074814b87fd9bc42e3aa25",
      "dad46ae1e2414820857098240e3d8cb0",
      "53c8324d537f437093d7b94e5f970d4d",
      "6e0f38b1d6e646f18f442292661dae39",
      "503927f7e79747e5a048dc940d76d68b",
      "1222b76fb6a04b80aff7d73ffb27c716",
      "a509f7f5990542a2a23afa0eabb5afda",
      "99301539aa52462f9cc2129454108c75",
      "61b198b9acef4974bc19ef93b08da37c",
      "3c8cfcb6f8664bbb8fc8de2b57e51485",
      "20db095bbfc140b3a02e9062baec0229",
      "3d389bb309894b5dad39fb56579a680a",
      "0134e83226cc43e181a6c84647ccc09a",
      "5627d65d3ab44ee489ec6932220d66a2",
      "7835d970bb784ae3af2fe14eab378ac8",
      "46949da1aec743218e6ac173a92187c2",
      "9772ef359b5545e3aad86fa43ed87b39",
      "3945b5b1e6da48259676aae86f9a471f",
      "64837bbd8c8a486d91edbc27181c0f10",
      "707c58f7ef54483a80901d8f73bb9318",
      "ce146e9d5d444f9c92eccc377bd95f4d",
      "739121c39ab34d6b92a081fc01667c9c",
      "8908cd48f1794113944a73748e85db7f",
      "03b8123f80be4e4192fe9505e11483ac",
      "cc9333ce522d47e3b24da098624def66",
      "c376d6922bae4cf0a70ac1427befcee7",
      "f68be05ce5de4ad28adf8b703d16bede",
      "17196093923744ed850a97072420e469",
      "6fd3489d734d4901bff487f1e29d5469",
      "e555236f859542a3b307e442e1420f7c",
      "ccdb7328706541bb9f933d1a3c463255",
      "592fc2dc8f43435aaecc8db665c3f87e",
      "86ce0785c7f14ada9bdf672e8e2b2302",
      "7f1c09c1a7f54c3babfa7972870363a2",
      "f85527bb84c04f2fa85960de7fe804da",
      "dca4b3e9df0d49cdab952f33dd25c654",
      "85179802fa1447c6b8923f3d71e8237c",
      "83b47675c8364943a52603b47383a82e",
      "fd1ec0fc6a0b4991ae371045a22a32f4",
      "bd3d80a9ea90413b929751d847d4a424",
      "70309f0340d94c768b14345ef19517e5",
      "ad25899500bd4e968f4f5bb8edf51f98",
      "77664c80280f4a1fa3c1faedaf729e97",
      "16e306ed6d444502ba5a359af6dbb883",
      "f52d165761d84d76aa173b0c4c96fe22",
      "c4f0cce6c6a049e2a9659d106d0e54ce",
      "cf73205cfb874949920fcaa36765b042",
      "2ecff6d371e644bba48442ca6cf0fbab",
      "84d38ca6558d4e0092d4ac7324411c83"
     ]
    },
    "id": "DWMav-vqpkNt",
    "outputId": "a1a96c60-7c86-486b-8301-5bea6a48fd46"
   },
   "outputs": [
    {
     "name": "stderr",
     "output_type": "stream",
     "text": [
      "/usr/local/lib/python3.10/dist-packages/huggingface_hub/utils/_token.py:89: UserWarning: \n",
      "The secret `HF_TOKEN` does not exist in your Colab secrets.\n",
      "To authenticate with the Hugging Face Hub, create a token in your settings tab (https://huggingface.co/settings/tokens), set it as secret in your Google Colab and restart your session.\n",
      "You will be able to reuse this secret in all of your notebooks.\n",
      "Please note that authentication is recommended but still optional to access public models or datasets.\n",
      "  warnings.warn(\n"
     ]
    },
    {
     "data": {
      "application/vnd.jupyter.widget-view+json": {
       "model_id": "6ac13fe45f3843038676fbca3fdf4475",
       "version_major": 2,
       "version_minor": 0
      },
      "text/plain": [
       "preprocessor_config.json:   0%|          | 0.00/224 [00:00<?, ?B/s]"
      ]
     },
     "metadata": {},
     "output_type": "display_data"
    },
    {
     "data": {
      "application/vnd.jupyter.widget-view+json": {
       "model_id": "f506870964224da19065b7e07a85f1db",
       "version_major": 2,
       "version_minor": 0
      },
      "text/plain": [
       "tokenizer_config.json:   0%|          | 0.00/1.12k [00:00<?, ?B/s]"
      ]
     },
     "metadata": {},
     "output_type": "display_data"
    },
    {
     "data": {
      "application/vnd.jupyter.widget-view+json": {
       "model_id": "9cf48e4982cf4e0bb2ea88b4641000d9",
       "version_major": 2,
       "version_minor": 0
      },
      "text/plain": [
       "vocab.json:   0%|          | 0.00/899k [00:00<?, ?B/s]"
      ]
     },
     "metadata": {},
     "output_type": "display_data"
    },
    {
     "data": {
      "application/vnd.jupyter.widget-view+json": {
       "model_id": "da195fa048794d9aaa933ebc18f90dce",
       "version_major": 2,
       "version_minor": 0
      },
      "text/plain": [
       "merges.txt:   0%|          | 0.00/456k [00:00<?, ?B/s]"
      ]
     },
     "metadata": {},
     "output_type": "display_data"
    },
    {
     "data": {
      "application/vnd.jupyter.widget-view+json": {
       "model_id": "1222b76fb6a04b80aff7d73ffb27c716",
       "version_major": 2,
       "version_minor": 0
      },
      "text/plain": [
       "special_tokens_map.json:   0%|          | 0.00/772 [00:00<?, ?B/s]"
      ]
     },
     "metadata": {},
     "output_type": "display_data"
    },
    {
     "name": "stderr",
     "output_type": "stream",
     "text": [
      "/usr/local/lib/python3.10/dist-packages/transformers/tokenization_utils_base.py:1601: FutureWarning: `clean_up_tokenization_spaces` was not set. It will be set to `True` by default. This behavior will be depracted in transformers v4.45, and will be then set to `False` by default. For more details check this issue: https://github.com/huggingface/transformers/issues/31884\n",
      "  warnings.warn(\n"
     ]
    },
    {
     "data": {
      "application/vnd.jupyter.widget-view+json": {
       "model_id": "9772ef359b5545e3aad86fa43ed87b39",
       "version_major": 2,
       "version_minor": 0
      },
      "text/plain": [
       "config.json:   0%|          | 0.00/4.13k [00:00<?, ?B/s]"
      ]
     },
     "metadata": {},
     "output_type": "display_data"
    },
    {
     "data": {
      "application/vnd.jupyter.widget-view+json": {
       "model_id": "17196093923744ed850a97072420e469",
       "version_major": 2,
       "version_minor": 0
      },
      "text/plain": [
       "model.safetensors:   0%|          | 0.00/1.33G [00:00<?, ?B/s]"
      ]
     },
     "metadata": {},
     "output_type": "display_data"
    },
    {
     "name": "stderr",
     "output_type": "stream",
     "text": [
      "Some weights of VisionEncoderDecoderModel were not initialized from the model checkpoint at microsoft/trocr-base-printed and are newly initialized: ['encoder.pooler.dense.bias', 'encoder.pooler.dense.weight']\n",
      "You should probably TRAIN this model on a down-stream task to be able to use it for predictions and inference.\n"
     ]
    },
    {
     "data": {
      "application/vnd.jupyter.widget-view+json": {
       "model_id": "fd1ec0fc6a0b4991ae371045a22a32f4",
       "version_major": 2,
       "version_minor": 0
      },
      "text/plain": [
       "generation_config.json:   0%|          | 0.00/190 [00:00<?, ?B/s]"
      ]
     },
     "metadata": {},
     "output_type": "display_data"
    }
   ],
   "source": [
    "from transformers import TrOCRProcessor, VisionEncoderDecoderModel\n",
    "from PIL import Image\n",
    "processor = TrOCRProcessor.from_pretrained('microsoft/trocr-base-printed')\n",
    "model = VisionEncoderDecoderModel.from_pretrained('microsoft/trocr-base-printed')"
   ]
  },
  {
   "cell_type": "code",
   "execution_count": null,
   "metadata": {
    "colab": {
     "base_uri": "https://localhost:8080/"
    },
    "id": "dNXYEH_IkMMc",
    "outputId": "c0098944-d644-48e0-e1d5-361f27f99435"
   },
   "outputs": [
    {
     "name": "stdout",
     "output_type": "stream",
     "text": [
      "torch.Size([1, 577, 768])\n"
     ]
    }
   ],
   "source": [
    "\n",
    "\n",
    "# Load the processor and the model\n",
    "\n",
    "\n",
    "# Load and preprocess the image\n",
    "\n",
    "\n",
    "# Preprocess the image and extract pixel values\n",
    "pixel_values = processor(pil_image, return_tensors=\"pt\").pixel_values\n",
    "# Pass the pixel values to the encoder to extract features\n",
    "encoder_outputs = model.encoder(pixel_values)\n",
    "\n",
    "# The encoder outputs are the features extracted from the image\n",
    "features = encoder_outputs.last_hidden_state\n",
    "print(features.shape)\n"
   ]
  },
  {
   "cell_type": "code",
   "execution_count": null,
   "metadata": {
    "colab": {
     "base_uri": "https://localhost:8080/"
    },
    "id": "euPSYnL0Rj0b",
    "outputId": "97c68d1a-04cc-4bdd-9c16-2c658f202131"
   },
   "outputs": [
    {
     "data": {
      "text/plain": [
       "torch.Size([1, 3, 384, 384])"
      ]
     },
     "execution_count": 21,
     "metadata": {},
     "output_type": "execute_result"
    }
   ],
   "source": [
    "pixel_values.shape"
   ]
  },
  {
   "cell_type": "code",
   "execution_count": null,
   "metadata": {
    "id": "QeDsf2z3rYqT"
   },
   "outputs": [],
   "source": []
  },
  {
   "cell_type": "code",
   "execution_count": null,
   "metadata": {
    "id": "r9ry5U3zqQeC"
   },
   "outputs": [],
   "source": [
    "from tqdm import tqdm\n",
    "import numpy as np\n",
    "def evaluate_word_spotting_tr(dataset,dataloader):\n",
    "    preds_list = list()\n",
    "    targets_list = list()\n",
    "\n",
    "    pbar_total = len(dataloader)\n",
    "    pbar = tqdm(total=pbar_total, desc=\"Wordspotting Evaluate\")\n",
    "    model.eval()\n",
    "    with torch.no_grad():\n",
    "        for i, data in enumerate(tqdm(dataloader)):\n",
    "\n",
    "\n",
    "            images, targets, target_lengths = [d.to(device) for d in data]\n",
    "            targets_list.append(targets)\n",
    "\n",
    "            encoder_outputs  = model.encoder(images)\n",
    "            pred_vec = encoder_outputs.last_hidden_state\n",
    "            pred_vec = torch.squeeze(pred_vec)\n",
    "            pred_vec = torch.mean(pred_vec, 2)\n",
    "            pred_vec = pred_vec.cpu().numpy()\n",
    "            preds_list.append(pred_vec)\n",
    "            pbar.update(1)\n",
    "    pbar.close()\n",
    "    print(\"starting MAP calculations\")\n",
    "    preds_array = [list(i.T) for i in preds_list]\n",
    "    lbl_array = dataset.word_strings\n",
    "\n",
    "    preds_array = [item for sublist in preds_array for item in sublist]\n",
    "    print(len(preds_array))\n",
    "    preds_array = np.array(preds_array)\n",
    "    print(preds_array.shape)\n",
    "    mAP, avg_precs = map_from_feature_matrix(preds_array, lbl_array, 'euclidean', False)\n",
    "    print(mAP)\n",
    "    print(avg_precs)\n",
    "    return preds_list, targets_list\n",
    "iam_hw_dataset = IAMDataset3(ttype='val',processor = processor)\n",
    "\n",
    "test_dataloader = torch.utils.data.DataLoader(\n",
    "    iam_hw_dataset, batch_size=8,\n",
    "    shuffle=False)\n"
   ]
  },
  {
   "cell_type": "code",
   "execution_count": null,
   "metadata": {
    "colab": {
     "base_uri": "https://localhost:8080/",
     "height": 1000
    },
    "id": "FFCQOUVA2OAP",
    "outputId": "fb72d99b-12c2-46c8-e483-c0e5b46b2a13"
   },
   "outputs": [
    {
     "name": "stderr",
     "output_type": "stream",
     "text": [
      "Wordspotting Evaluate:   0%|          | 0/706 [00:00<?, ?it/s]\n",
      "  0%|          | 0/706 [00:00<?, ?it/s]\n"
     ]
    },
    {
     "ename": "RuntimeError",
     "evalue": "each element in list of batch should be of equal size",
     "output_type": "error",
     "traceback": [
      "\u001b[0;31m---------------------------------------------------------------------------\u001b[0m",
      "\u001b[0;31mRuntimeError\u001b[0m                              Traceback (most recent call last)",
      "\u001b[0;32m<ipython-input-16-bb142f0d07b3>\u001b[0m in \u001b[0;36m<cell line: 1>\u001b[0;34m()\u001b[0m\n\u001b[0;32m----> 1\u001b[0;31m \u001b[0ma\u001b[0m\u001b[0;34m,\u001b[0m \u001b[0mb\u001b[0m \u001b[0;34m=\u001b[0m \u001b[0mevaluate_word_spotting_tr\u001b[0m\u001b[0;34m(\u001b[0m\u001b[0miam_hw_dataset\u001b[0m\u001b[0;34m,\u001b[0m \u001b[0mtest_dataloader\u001b[0m\u001b[0;34m)\u001b[0m\u001b[0;34m\u001b[0m\u001b[0;34m\u001b[0m\u001b[0m\n\u001b[0m",
      "\u001b[0;32m<ipython-input-15-fff2daa4a3ac>\u001b[0m in \u001b[0;36mevaluate_word_spotting_tr\u001b[0;34m(dataset, dataloader)\u001b[0m\n\u001b[1;32m      9\u001b[0m     \u001b[0mmodel\u001b[0m\u001b[0;34m.\u001b[0m\u001b[0meval\u001b[0m\u001b[0;34m(\u001b[0m\u001b[0;34m)\u001b[0m\u001b[0;34m\u001b[0m\u001b[0;34m\u001b[0m\u001b[0m\n\u001b[1;32m     10\u001b[0m     \u001b[0;32mwith\u001b[0m \u001b[0mtorch\u001b[0m\u001b[0;34m.\u001b[0m\u001b[0mno_grad\u001b[0m\u001b[0;34m(\u001b[0m\u001b[0;34m)\u001b[0m\u001b[0;34m:\u001b[0m\u001b[0;34m\u001b[0m\u001b[0;34m\u001b[0m\u001b[0m\n\u001b[0;32m---> 11\u001b[0;31m         \u001b[0;32mfor\u001b[0m \u001b[0mi\u001b[0m\u001b[0;34m,\u001b[0m \u001b[0mdata\u001b[0m \u001b[0;32min\u001b[0m \u001b[0menumerate\u001b[0m\u001b[0;34m(\u001b[0m\u001b[0mtqdm\u001b[0m\u001b[0;34m(\u001b[0m\u001b[0mdataloader\u001b[0m\u001b[0;34m)\u001b[0m\u001b[0;34m)\u001b[0m\u001b[0;34m:\u001b[0m\u001b[0;34m\u001b[0m\u001b[0;34m\u001b[0m\u001b[0m\n\u001b[0m\u001b[1;32m     12\u001b[0m \u001b[0;34m\u001b[0m\u001b[0m\n\u001b[1;32m     13\u001b[0m \u001b[0;34m\u001b[0m\u001b[0m\n",
      "\u001b[0;32m/usr/local/lib/python3.10/dist-packages/tqdm/std.py\u001b[0m in \u001b[0;36m__iter__\u001b[0;34m(self)\u001b[0m\n\u001b[1;32m   1179\u001b[0m \u001b[0;34m\u001b[0m\u001b[0m\n\u001b[1;32m   1180\u001b[0m         \u001b[0;32mtry\u001b[0m\u001b[0;34m:\u001b[0m\u001b[0;34m\u001b[0m\u001b[0;34m\u001b[0m\u001b[0m\n\u001b[0;32m-> 1181\u001b[0;31m             \u001b[0;32mfor\u001b[0m \u001b[0mobj\u001b[0m \u001b[0;32min\u001b[0m \u001b[0miterable\u001b[0m\u001b[0;34m:\u001b[0m\u001b[0;34m\u001b[0m\u001b[0;34m\u001b[0m\u001b[0m\n\u001b[0m\u001b[1;32m   1182\u001b[0m                 \u001b[0;32myield\u001b[0m \u001b[0mobj\u001b[0m\u001b[0;34m\u001b[0m\u001b[0;34m\u001b[0m\u001b[0m\n\u001b[1;32m   1183\u001b[0m                 \u001b[0;31m# Update and possibly print the progressbar.\u001b[0m\u001b[0;34m\u001b[0m\u001b[0;34m\u001b[0m\u001b[0m\n",
      "\u001b[0;32m/usr/local/lib/python3.10/dist-packages/torch/utils/data/dataloader.py\u001b[0m in \u001b[0;36m__next__\u001b[0;34m(self)\u001b[0m\n\u001b[1;32m    628\u001b[0m                 \u001b[0;31m# TODO(https://github.com/pytorch/pytorch/issues/76750)\u001b[0m\u001b[0;34m\u001b[0m\u001b[0;34m\u001b[0m\u001b[0m\n\u001b[1;32m    629\u001b[0m                 \u001b[0mself\u001b[0m\u001b[0;34m.\u001b[0m\u001b[0m_reset\u001b[0m\u001b[0;34m(\u001b[0m\u001b[0;34m)\u001b[0m  \u001b[0;31m# type: ignore[call-arg]\u001b[0m\u001b[0;34m\u001b[0m\u001b[0;34m\u001b[0m\u001b[0m\n\u001b[0;32m--> 630\u001b[0;31m             \u001b[0mdata\u001b[0m \u001b[0;34m=\u001b[0m \u001b[0mself\u001b[0m\u001b[0;34m.\u001b[0m\u001b[0m_next_data\u001b[0m\u001b[0;34m(\u001b[0m\u001b[0;34m)\u001b[0m\u001b[0;34m\u001b[0m\u001b[0;34m\u001b[0m\u001b[0m\n\u001b[0m\u001b[1;32m    631\u001b[0m             \u001b[0mself\u001b[0m\u001b[0;34m.\u001b[0m\u001b[0m_num_yielded\u001b[0m \u001b[0;34m+=\u001b[0m \u001b[0;36m1\u001b[0m\u001b[0;34m\u001b[0m\u001b[0;34m\u001b[0m\u001b[0m\n\u001b[1;32m    632\u001b[0m             \u001b[0;32mif\u001b[0m \u001b[0mself\u001b[0m\u001b[0;34m.\u001b[0m\u001b[0m_dataset_kind\u001b[0m \u001b[0;34m==\u001b[0m \u001b[0m_DatasetKind\u001b[0m\u001b[0;34m.\u001b[0m\u001b[0mIterable\u001b[0m \u001b[0;32mand\u001b[0m\u001b[0;31m \u001b[0m\u001b[0;31m\\\u001b[0m\u001b[0;34m\u001b[0m\u001b[0;34m\u001b[0m\u001b[0m\n",
      "\u001b[0;32m/usr/local/lib/python3.10/dist-packages/torch/utils/data/dataloader.py\u001b[0m in \u001b[0;36m_next_data\u001b[0;34m(self)\u001b[0m\n\u001b[1;32m    671\u001b[0m     \u001b[0;32mdef\u001b[0m \u001b[0m_next_data\u001b[0m\u001b[0;34m(\u001b[0m\u001b[0mself\u001b[0m\u001b[0;34m)\u001b[0m\u001b[0;34m:\u001b[0m\u001b[0;34m\u001b[0m\u001b[0;34m\u001b[0m\u001b[0m\n\u001b[1;32m    672\u001b[0m         \u001b[0mindex\u001b[0m \u001b[0;34m=\u001b[0m \u001b[0mself\u001b[0m\u001b[0;34m.\u001b[0m\u001b[0m_next_index\u001b[0m\u001b[0;34m(\u001b[0m\u001b[0;34m)\u001b[0m  \u001b[0;31m# may raise StopIteration\u001b[0m\u001b[0;34m\u001b[0m\u001b[0;34m\u001b[0m\u001b[0m\n\u001b[0;32m--> 673\u001b[0;31m         \u001b[0mdata\u001b[0m \u001b[0;34m=\u001b[0m \u001b[0mself\u001b[0m\u001b[0;34m.\u001b[0m\u001b[0m_dataset_fetcher\u001b[0m\u001b[0;34m.\u001b[0m\u001b[0mfetch\u001b[0m\u001b[0;34m(\u001b[0m\u001b[0mindex\u001b[0m\u001b[0;34m)\u001b[0m  \u001b[0;31m# may raise StopIteration\u001b[0m\u001b[0;34m\u001b[0m\u001b[0;34m\u001b[0m\u001b[0m\n\u001b[0m\u001b[1;32m    674\u001b[0m         \u001b[0;32mif\u001b[0m \u001b[0mself\u001b[0m\u001b[0;34m.\u001b[0m\u001b[0m_pin_memory\u001b[0m\u001b[0;34m:\u001b[0m\u001b[0;34m\u001b[0m\u001b[0;34m\u001b[0m\u001b[0m\n\u001b[1;32m    675\u001b[0m             \u001b[0mdata\u001b[0m \u001b[0;34m=\u001b[0m \u001b[0m_utils\u001b[0m\u001b[0;34m.\u001b[0m\u001b[0mpin_memory\u001b[0m\u001b[0;34m.\u001b[0m\u001b[0mpin_memory\u001b[0m\u001b[0;34m(\u001b[0m\u001b[0mdata\u001b[0m\u001b[0;34m,\u001b[0m \u001b[0mself\u001b[0m\u001b[0;34m.\u001b[0m\u001b[0m_pin_memory_device\u001b[0m\u001b[0;34m)\u001b[0m\u001b[0;34m\u001b[0m\u001b[0;34m\u001b[0m\u001b[0m\n",
      "\u001b[0;32m/usr/local/lib/python3.10/dist-packages/torch/utils/data/_utils/fetch.py\u001b[0m in \u001b[0;36mfetch\u001b[0;34m(self, possibly_batched_index)\u001b[0m\n\u001b[1;32m     53\u001b[0m         \u001b[0;32melse\u001b[0m\u001b[0;34m:\u001b[0m\u001b[0;34m\u001b[0m\u001b[0;34m\u001b[0m\u001b[0m\n\u001b[1;32m     54\u001b[0m             \u001b[0mdata\u001b[0m \u001b[0;34m=\u001b[0m \u001b[0mself\u001b[0m\u001b[0;34m.\u001b[0m\u001b[0mdataset\u001b[0m\u001b[0;34m[\u001b[0m\u001b[0mpossibly_batched_index\u001b[0m\u001b[0;34m]\u001b[0m\u001b[0;34m\u001b[0m\u001b[0;34m\u001b[0m\u001b[0m\n\u001b[0;32m---> 55\u001b[0;31m         \u001b[0;32mreturn\u001b[0m \u001b[0mself\u001b[0m\u001b[0;34m.\u001b[0m\u001b[0mcollate_fn\u001b[0m\u001b[0;34m(\u001b[0m\u001b[0mdata\u001b[0m\u001b[0;34m)\u001b[0m\u001b[0;34m\u001b[0m\u001b[0;34m\u001b[0m\u001b[0m\n\u001b[0m",
      "\u001b[0;32m/usr/local/lib/python3.10/dist-packages/torch/utils/data/_utils/collate.py\u001b[0m in \u001b[0;36mdefault_collate\u001b[0;34m(batch)\u001b[0m\n\u001b[1;32m    315\u001b[0m         \u001b[0;34m>>\u001b[0m\u001b[0;34m>\u001b[0m \u001b[0mdefault_collate\u001b[0m\u001b[0;34m(\u001b[0m\u001b[0mbatch\u001b[0m\u001b[0;34m)\u001b[0m  \u001b[0;31m# Handle `CustomType` automatically\u001b[0m\u001b[0;34m\u001b[0m\u001b[0;34m\u001b[0m\u001b[0m\n\u001b[1;32m    316\u001b[0m     \"\"\"\n\u001b[0;32m--> 317\u001b[0;31m     \u001b[0;32mreturn\u001b[0m \u001b[0mcollate\u001b[0m\u001b[0;34m(\u001b[0m\u001b[0mbatch\u001b[0m\u001b[0;34m,\u001b[0m \u001b[0mcollate_fn_map\u001b[0m\u001b[0;34m=\u001b[0m\u001b[0mdefault_collate_fn_map\u001b[0m\u001b[0;34m)\u001b[0m\u001b[0;34m\u001b[0m\u001b[0;34m\u001b[0m\u001b[0m\n\u001b[0m",
      "\u001b[0;32m/usr/local/lib/python3.10/dist-packages/torch/utils/data/_utils/collate.py\u001b[0m in \u001b[0;36mcollate\u001b[0;34m(batch, collate_fn_map)\u001b[0m\n\u001b[1;32m    172\u001b[0m \u001b[0;34m\u001b[0m\u001b[0m\n\u001b[1;32m    173\u001b[0m         \u001b[0;32mif\u001b[0m \u001b[0misinstance\u001b[0m\u001b[0;34m(\u001b[0m\u001b[0melem\u001b[0m\u001b[0;34m,\u001b[0m \u001b[0mtuple\u001b[0m\u001b[0;34m)\u001b[0m\u001b[0;34m:\u001b[0m\u001b[0;34m\u001b[0m\u001b[0;34m\u001b[0m\u001b[0m\n\u001b[0;32m--> 174\u001b[0;31m             \u001b[0;32mreturn\u001b[0m \u001b[0;34m[\u001b[0m\u001b[0mcollate\u001b[0m\u001b[0;34m(\u001b[0m\u001b[0msamples\u001b[0m\u001b[0;34m,\u001b[0m \u001b[0mcollate_fn_map\u001b[0m\u001b[0;34m=\u001b[0m\u001b[0mcollate_fn_map\u001b[0m\u001b[0;34m)\u001b[0m \u001b[0;32mfor\u001b[0m \u001b[0msamples\u001b[0m \u001b[0;32min\u001b[0m \u001b[0mtransposed\u001b[0m\u001b[0;34m]\u001b[0m  \u001b[0;31m# Backwards compatibility.\u001b[0m\u001b[0;34m\u001b[0m\u001b[0;34m\u001b[0m\u001b[0m\n\u001b[0m\u001b[1;32m    175\u001b[0m         \u001b[0;32melse\u001b[0m\u001b[0;34m:\u001b[0m\u001b[0;34m\u001b[0m\u001b[0;34m\u001b[0m\u001b[0m\n\u001b[1;32m    176\u001b[0m             \u001b[0;32mtry\u001b[0m\u001b[0;34m:\u001b[0m\u001b[0;34m\u001b[0m\u001b[0;34m\u001b[0m\u001b[0m\n",
      "\u001b[0;32m/usr/local/lib/python3.10/dist-packages/torch/utils/data/_utils/collate.py\u001b[0m in \u001b[0;36m<listcomp>\u001b[0;34m(.0)\u001b[0m\n\u001b[1;32m    172\u001b[0m \u001b[0;34m\u001b[0m\u001b[0m\n\u001b[1;32m    173\u001b[0m         \u001b[0;32mif\u001b[0m \u001b[0misinstance\u001b[0m\u001b[0;34m(\u001b[0m\u001b[0melem\u001b[0m\u001b[0;34m,\u001b[0m \u001b[0mtuple\u001b[0m\u001b[0;34m)\u001b[0m\u001b[0;34m:\u001b[0m\u001b[0;34m\u001b[0m\u001b[0;34m\u001b[0m\u001b[0m\n\u001b[0;32m--> 174\u001b[0;31m             \u001b[0;32mreturn\u001b[0m \u001b[0;34m[\u001b[0m\u001b[0mcollate\u001b[0m\u001b[0;34m(\u001b[0m\u001b[0msamples\u001b[0m\u001b[0;34m,\u001b[0m \u001b[0mcollate_fn_map\u001b[0m\u001b[0;34m=\u001b[0m\u001b[0mcollate_fn_map\u001b[0m\u001b[0;34m)\u001b[0m \u001b[0;32mfor\u001b[0m \u001b[0msamples\u001b[0m \u001b[0;32min\u001b[0m \u001b[0mtransposed\u001b[0m\u001b[0;34m]\u001b[0m  \u001b[0;31m# Backwards compatibility.\u001b[0m\u001b[0;34m\u001b[0m\u001b[0;34m\u001b[0m\u001b[0m\n\u001b[0m\u001b[1;32m    175\u001b[0m         \u001b[0;32melse\u001b[0m\u001b[0;34m:\u001b[0m\u001b[0;34m\u001b[0m\u001b[0;34m\u001b[0m\u001b[0m\n\u001b[1;32m    176\u001b[0m             \u001b[0;32mtry\u001b[0m\u001b[0;34m:\u001b[0m\u001b[0;34m\u001b[0m\u001b[0;34m\u001b[0m\u001b[0m\n",
      "\u001b[0;32m/usr/local/lib/python3.10/dist-packages/torch/utils/data/_utils/collate.py\u001b[0m in \u001b[0;36mcollate\u001b[0;34m(batch, collate_fn_map)\u001b[0m\n\u001b[1;32m    168\u001b[0m         \u001b[0melem_size\u001b[0m \u001b[0;34m=\u001b[0m \u001b[0mlen\u001b[0m\u001b[0;34m(\u001b[0m\u001b[0mnext\u001b[0m\u001b[0;34m(\u001b[0m\u001b[0mit\u001b[0m\u001b[0;34m)\u001b[0m\u001b[0;34m)\u001b[0m\u001b[0;34m\u001b[0m\u001b[0;34m\u001b[0m\u001b[0m\n\u001b[1;32m    169\u001b[0m         \u001b[0;32mif\u001b[0m \u001b[0;32mnot\u001b[0m \u001b[0mall\u001b[0m\u001b[0;34m(\u001b[0m\u001b[0mlen\u001b[0m\u001b[0;34m(\u001b[0m\u001b[0melem\u001b[0m\u001b[0;34m)\u001b[0m \u001b[0;34m==\u001b[0m \u001b[0melem_size\u001b[0m \u001b[0;32mfor\u001b[0m \u001b[0melem\u001b[0m \u001b[0;32min\u001b[0m \u001b[0mit\u001b[0m\u001b[0;34m)\u001b[0m\u001b[0;34m:\u001b[0m\u001b[0;34m\u001b[0m\u001b[0;34m\u001b[0m\u001b[0m\n\u001b[0;32m--> 170\u001b[0;31m             \u001b[0;32mraise\u001b[0m \u001b[0mRuntimeError\u001b[0m\u001b[0;34m(\u001b[0m\u001b[0;34m'each element in list of batch should be of equal size'\u001b[0m\u001b[0;34m)\u001b[0m\u001b[0;34m\u001b[0m\u001b[0;34m\u001b[0m\u001b[0m\n\u001b[0m\u001b[1;32m    171\u001b[0m         \u001b[0mtransposed\u001b[0m \u001b[0;34m=\u001b[0m \u001b[0mlist\u001b[0m\u001b[0;34m(\u001b[0m\u001b[0mzip\u001b[0m\u001b[0;34m(\u001b[0m\u001b[0;34m*\u001b[0m\u001b[0mbatch\u001b[0m\u001b[0;34m)\u001b[0m\u001b[0;34m)\u001b[0m  \u001b[0;31m# It may be accessed twice, so we use a list.\u001b[0m\u001b[0;34m\u001b[0m\u001b[0;34m\u001b[0m\u001b[0m\n\u001b[1;32m    172\u001b[0m \u001b[0;34m\u001b[0m\u001b[0m\n",
      "\u001b[0;31mRuntimeError\u001b[0m: each element in list of batch should be of equal size"
     ]
    }
   ],
   "source": [
    "a, b = evaluate_word_spotting_tr(iam_hw_dataset, test_dataloader)"
   ]
  },
  {
   "cell_type": "code",
   "execution_count": null,
   "metadata": {
    "id": "5zsD_7fo2P9U"
   },
   "outputs": [],
   "source": [
    "import requests\n",
    "url = \"https://fki.tic.heia-fr.ch/static/img/a01-122-02.jpg\"\n",
    "\n",
    "image = Image.open(requests.get(url, stream=True).raw).convert(\"RGB\")"
   ]
  },
  {
   "cell_type": "code",
   "execution_count": null,
   "metadata": {
    "colab": {
     "base_uri": "https://localhost:8080/"
    },
    "id": "zKXrKK-35pTu",
    "outputId": "40f5fa10-2c49-4d40-b33f-b6151a849b20"
   },
   "outputs": [
    {
     "data": {
      "text/plain": [
       "(1024, 100)"
      ]
     },
     "execution_count": 16,
     "metadata": {},
     "output_type": "execute_result"
    }
   ],
   "source": [
    "image.size"
   ]
  },
  {
   "cell_type": "code",
   "execution_count": null,
   "metadata": {
    "id": "TB4RH1FP5sJc"
   },
   "outputs": [],
   "source": []
  }
 ],
 "metadata": {
  "accelerator": "GPU",
  "colab": {
   "gpuType": "T4",
   "provenance": []
  },
  "kernelspec": {
   "display_name": "Python 3 (ipykernel)",
   "language": "python",
   "name": "python3"
  },
  "language_info": {
   "codemirror_mode": {
    "name": "ipython",
    "version": 3
   },
   "file_extension": ".py",
   "mimetype": "text/x-python",
   "name": "python",
   "nbconvert_exporter": "python",
   "pygments_lexer": "ipython3",
   "version": "3.12.3"
  },
  "widgets": {
   "application/vnd.jupyter.widget-state+json": {
    "00a64ac276c840af9c0e56d64bef8e0f": {
     "model_module": "@jupyter-widgets/base",
     "model_module_version": "1.2.0",
     "model_name": "LayoutModel",
     "state": {
      "_model_module": "@jupyter-widgets/base",
      "_model_module_version": "1.2.0",
      "_model_name": "LayoutModel",
      "_view_count": null,
      "_view_module": "@jupyter-widgets/base",
      "_view_module_version": "1.2.0",
      "_view_name": "LayoutView",
      "align_content": null,
      "align_items": null,
      "align_self": null,
      "border": null,
      "bottom": null,
      "display": null,
      "flex": null,
      "flex_flow": null,
      "grid_area": null,
      "grid_auto_columns": null,
      "grid_auto_flow": null,
      "grid_auto_rows": null,
      "grid_column": null,
      "grid_gap": null,
      "grid_row": null,
      "grid_template_areas": null,
      "grid_template_columns": null,
      "grid_template_rows": null,
      "height": null,
      "justify_content": null,
      "justify_items": null,
      "left": null,
      "margin": null,
      "max_height": null,
      "max_width": null,
      "min_height": null,
      "min_width": null,
      "object_fit": null,
      "object_position": null,
      "order": null,
      "overflow": null,
      "overflow_x": null,
      "overflow_y": null,
      "padding": null,
      "right": null,
      "top": null,
      "visibility": null,
      "width": null
     }
    },
    "0134e83226cc43e181a6c84647ccc09a": {
     "model_module": "@jupyter-widgets/base",
     "model_module_version": "1.2.0",
     "model_name": "LayoutModel",
     "state": {
      "_model_module": "@jupyter-widgets/base",
      "_model_module_version": "1.2.0",
      "_model_name": "LayoutModel",
      "_view_count": null,
      "_view_module": "@jupyter-widgets/base",
      "_view_module_version": "1.2.0",
      "_view_name": "LayoutView",
      "align_content": null,
      "align_items": null,
      "align_self": null,
      "border": null,
      "bottom": null,
      "display": null,
      "flex": null,
      "flex_flow": null,
      "grid_area": null,
      "grid_auto_columns": null,
      "grid_auto_flow": null,
      "grid_auto_rows": null,
      "grid_column": null,
      "grid_gap": null,
      "grid_row": null,
      "grid_template_areas": null,
      "grid_template_columns": null,
      "grid_template_rows": null,
      "height": null,
      "justify_content": null,
      "justify_items": null,
      "left": null,
      "margin": null,
      "max_height": null,
      "max_width": null,
      "min_height": null,
      "min_width": null,
      "object_fit": null,
      "object_position": null,
      "order": null,
      "overflow": null,
      "overflow_x": null,
      "overflow_y": null,
      "padding": null,
      "right": null,
      "top": null,
      "visibility": null,
      "width": null
     }
    },
    "03b8123f80be4e4192fe9505e11483ac": {
     "model_module": "@jupyter-widgets/base",
     "model_module_version": "1.2.0",
     "model_name": "LayoutModel",
     "state": {
      "_model_module": "@jupyter-widgets/base",
      "_model_module_version": "1.2.0",
      "_model_name": "LayoutModel",
      "_view_count": null,
      "_view_module": "@jupyter-widgets/base",
      "_view_module_version": "1.2.0",
      "_view_name": "LayoutView",
      "align_content": null,
      "align_items": null,
      "align_self": null,
      "border": null,
      "bottom": null,
      "display": null,
      "flex": null,
      "flex_flow": null,
      "grid_area": null,
      "grid_auto_columns": null,
      "grid_auto_flow": null,
      "grid_auto_rows": null,
      "grid_column": null,
      "grid_gap": null,
      "grid_row": null,
      "grid_template_areas": null,
      "grid_template_columns": null,
      "grid_template_rows": null,
      "height": null,
      "justify_content": null,
      "justify_items": null,
      "left": null,
      "margin": null,
      "max_height": null,
      "max_width": null,
      "min_height": null,
      "min_width": null,
      "object_fit": null,
      "object_position": null,
      "order": null,
      "overflow": null,
      "overflow_x": null,
      "overflow_y": null,
      "padding": null,
      "right": null,
      "top": null,
      "visibility": null,
      "width": null
     }
    },
    "083e4da6a4e74441a4e23f92ec17ab73": {
     "model_module": "@jupyter-widgets/controls",
     "model_module_version": "1.5.0",
     "model_name": "FloatProgressModel",
     "state": {
      "_dom_classes": [],
      "_model_module": "@jupyter-widgets/controls",
      "_model_module_version": "1.5.0",
      "_model_name": "FloatProgressModel",
      "_view_count": null,
      "_view_module": "@jupyter-widgets/controls",
      "_view_module_version": "1.5.0",
      "_view_name": "ProgressView",
      "bar_style": "success",
      "description": "",
      "description_tooltip": null,
      "layout": "IPY_MODEL_dad46ae1e2414820857098240e3d8cb0",
      "max": 456318,
      "min": 0,
      "orientation": "horizontal",
      "style": "IPY_MODEL_53c8324d537f437093d7b94e5f970d4d",
      "value": 456318
     }
    },
    "1222b76fb6a04b80aff7d73ffb27c716": {
     "model_module": "@jupyter-widgets/controls",
     "model_module_version": "1.5.0",
     "model_name": "HBoxModel",
     "state": {
      "_dom_classes": [],
      "_model_module": "@jupyter-widgets/controls",
      "_model_module_version": "1.5.0",
      "_model_name": "HBoxModel",
      "_view_count": null,
      "_view_module": "@jupyter-widgets/controls",
      "_view_module_version": "1.5.0",
      "_view_name": "HBoxView",
      "box_style": "",
      "children": [
       "IPY_MODEL_a509f7f5990542a2a23afa0eabb5afda",
       "IPY_MODEL_99301539aa52462f9cc2129454108c75",
       "IPY_MODEL_61b198b9acef4974bc19ef93b08da37c"
      ],
      "layout": "IPY_MODEL_3c8cfcb6f8664bbb8fc8de2b57e51485"
     }
    },
    "153d23ce75524e4eb1747bd6f7a514e4": {
     "model_module": "@jupyter-widgets/controls",
     "model_module_version": "1.5.0",
     "model_name": "HTMLModel",
     "state": {
      "_dom_classes": [],
      "_model_module": "@jupyter-widgets/controls",
      "_model_module_version": "1.5.0",
      "_model_name": "HTMLModel",
      "_view_count": null,
      "_view_module": "@jupyter-widgets/controls",
      "_view_module_version": "1.5.0",
      "_view_name": "HTMLView",
      "description": "",
      "description_tooltip": null,
      "layout": "IPY_MODEL_ef0cf2b10e6b41838404c67c5e94923a",
      "placeholder": "​",
      "style": "IPY_MODEL_15c1cdde80e74c51a2a2519245263c49",
      "value": "preprocessor_config.json: 100%"
     }
    },
    "15c1cdde80e74c51a2a2519245263c49": {
     "model_module": "@jupyter-widgets/controls",
     "model_module_version": "1.5.0",
     "model_name": "DescriptionStyleModel",
     "state": {
      "_model_module": "@jupyter-widgets/controls",
      "_model_module_version": "1.5.0",
      "_model_name": "DescriptionStyleModel",
      "_view_count": null,
      "_view_module": "@jupyter-widgets/base",
      "_view_module_version": "1.2.0",
      "_view_name": "StyleView",
      "description_width": ""
     }
    },
    "16e306ed6d444502ba5a359af6dbb883": {
     "model_module": "@jupyter-widgets/base",
     "model_module_version": "1.2.0",
     "model_name": "LayoutModel",
     "state": {
      "_model_module": "@jupyter-widgets/base",
      "_model_module_version": "1.2.0",
      "_model_name": "LayoutModel",
      "_view_count": null,
      "_view_module": "@jupyter-widgets/base",
      "_view_module_version": "1.2.0",
      "_view_name": "LayoutView",
      "align_content": null,
      "align_items": null,
      "align_self": null,
      "border": null,
      "bottom": null,
      "display": null,
      "flex": null,
      "flex_flow": null,
      "grid_area": null,
      "grid_auto_columns": null,
      "grid_auto_flow": null,
      "grid_auto_rows": null,
      "grid_column": null,
      "grid_gap": null,
      "grid_row": null,
      "grid_template_areas": null,
      "grid_template_columns": null,
      "grid_template_rows": null,
      "height": null,
      "justify_content": null,
      "justify_items": null,
      "left": null,
      "margin": null,
      "max_height": null,
      "max_width": null,
      "min_height": null,
      "min_width": null,
      "object_fit": null,
      "object_position": null,
      "order": null,
      "overflow": null,
      "overflow_x": null,
      "overflow_y": null,
      "padding": null,
      "right": null,
      "top": null,
      "visibility": null,
      "width": null
     }
    },
    "17196093923744ed850a97072420e469": {
     "model_module": "@jupyter-widgets/controls",
     "model_module_version": "1.5.0",
     "model_name": "HBoxModel",
     "state": {
      "_dom_classes": [],
      "_model_module": "@jupyter-widgets/controls",
      "_model_module_version": "1.5.0",
      "_model_name": "HBoxModel",
      "_view_count": null,
      "_view_module": "@jupyter-widgets/controls",
      "_view_module_version": "1.5.0",
      "_view_name": "HBoxView",
      "box_style": "",
      "children": [
       "IPY_MODEL_6fd3489d734d4901bff487f1e29d5469",
       "IPY_MODEL_e555236f859542a3b307e442e1420f7c",
       "IPY_MODEL_ccdb7328706541bb9f933d1a3c463255"
      ],
      "layout": "IPY_MODEL_592fc2dc8f43435aaecc8db665c3f87e"
     }
    },
    "1ceb27e57e61490ba46932bf47a050b9": {
     "model_module": "@jupyter-widgets/controls",
     "model_module_version": "1.5.0",
     "model_name": "FloatProgressModel",
     "state": {
      "_dom_classes": [],
      "_model_module": "@jupyter-widgets/controls",
      "_model_module_version": "1.5.0",
      "_model_name": "FloatProgressModel",
      "_view_count": null,
      "_view_module": "@jupyter-widgets/controls",
      "_view_module_version": "1.5.0",
      "_view_name": "ProgressView",
      "bar_style": "success",
      "description": "",
      "description_tooltip": null,
      "layout": "IPY_MODEL_4ebe00b1c5bd44a882914b10ffea2214",
      "max": 224,
      "min": 0,
      "orientation": "horizontal",
      "style": "IPY_MODEL_e5c970a4cf5d4ea490a5b83514707eb7",
      "value": 224
     }
    },
    "20db095bbfc140b3a02e9062baec0229": {
     "model_module": "@jupyter-widgets/base",
     "model_module_version": "1.2.0",
     "model_name": "LayoutModel",
     "state": {
      "_model_module": "@jupyter-widgets/base",
      "_model_module_version": "1.2.0",
      "_model_name": "LayoutModel",
      "_view_count": null,
      "_view_module": "@jupyter-widgets/base",
      "_view_module_version": "1.2.0",
      "_view_name": "LayoutView",
      "align_content": null,
      "align_items": null,
      "align_self": null,
      "border": null,
      "bottom": null,
      "display": null,
      "flex": null,
      "flex_flow": null,
      "grid_area": null,
      "grid_auto_columns": null,
      "grid_auto_flow": null,
      "grid_auto_rows": null,
      "grid_column": null,
      "grid_gap": null,
      "grid_row": null,
      "grid_template_areas": null,
      "grid_template_columns": null,
      "grid_template_rows": null,
      "height": null,
      "justify_content": null,
      "justify_items": null,
      "left": null,
      "margin": null,
      "max_height": null,
      "max_width": null,
      "min_height": null,
      "min_width": null,
      "object_fit": null,
      "object_position": null,
      "order": null,
      "overflow": null,
      "overflow_x": null,
      "overflow_y": null,
      "padding": null,
      "right": null,
      "top": null,
      "visibility": null,
      "width": null
     }
    },
    "2ecff6d371e644bba48442ca6cf0fbab": {
     "model_module": "@jupyter-widgets/base",
     "model_module_version": "1.2.0",
     "model_name": "LayoutModel",
     "state": {
      "_model_module": "@jupyter-widgets/base",
      "_model_module_version": "1.2.0",
      "_model_name": "LayoutModel",
      "_view_count": null,
      "_view_module": "@jupyter-widgets/base",
      "_view_module_version": "1.2.0",
      "_view_name": "LayoutView",
      "align_content": null,
      "align_items": null,
      "align_self": null,
      "border": null,
      "bottom": null,
      "display": null,
      "flex": null,
      "flex_flow": null,
      "grid_area": null,
      "grid_auto_columns": null,
      "grid_auto_flow": null,
      "grid_auto_rows": null,
      "grid_column": null,
      "grid_gap": null,
      "grid_row": null,
      "grid_template_areas": null,
      "grid_template_columns": null,
      "grid_template_rows": null,
      "height": null,
      "justify_content": null,
      "justify_items": null,
      "left": null,
      "margin": null,
      "max_height": null,
      "max_width": null,
      "min_height": null,
      "min_width": null,
      "object_fit": null,
      "object_position": null,
      "order": null,
      "overflow": null,
      "overflow_x": null,
      "overflow_y": null,
      "padding": null,
      "right": null,
      "top": null,
      "visibility": null,
      "width": null
     }
    },
    "33cef35231634075b27bf406b757f065": {
     "model_module": "@jupyter-widgets/controls",
     "model_module_version": "1.5.0",
     "model_name": "FloatProgressModel",
     "state": {
      "_dom_classes": [],
      "_model_module": "@jupyter-widgets/controls",
      "_model_module_version": "1.5.0",
      "_model_name": "FloatProgressModel",
      "_view_count": null,
      "_view_module": "@jupyter-widgets/controls",
      "_view_module_version": "1.5.0",
      "_view_name": "ProgressView",
      "bar_style": "success",
      "description": "",
      "description_tooltip": null,
      "layout": "IPY_MODEL_00a64ac276c840af9c0e56d64bef8e0f",
      "max": 1118,
      "min": 0,
      "orientation": "horizontal",
      "style": "IPY_MODEL_62deb3b32a384f3498381119bf12e7f2",
      "value": 1118
     }
    },
    "3945b5b1e6da48259676aae86f9a471f": {
     "model_module": "@jupyter-widgets/controls",
     "model_module_version": "1.5.0",
     "model_name": "HTMLModel",
     "state": {
      "_dom_classes": [],
      "_model_module": "@jupyter-widgets/controls",
      "_model_module_version": "1.5.0",
      "_model_name": "HTMLModel",
      "_view_count": null,
      "_view_module": "@jupyter-widgets/controls",
      "_view_module_version": "1.5.0",
      "_view_name": "HTMLView",
      "description": "",
      "description_tooltip": null,
      "layout": "IPY_MODEL_739121c39ab34d6b92a081fc01667c9c",
      "placeholder": "​",
      "style": "IPY_MODEL_8908cd48f1794113944a73748e85db7f",
      "value": "config.json: 100%"
     }
    },
    "3c8cfcb6f8664bbb8fc8de2b57e51485": {
     "model_module": "@jupyter-widgets/base",
     "model_module_version": "1.2.0",
     "model_name": "LayoutModel",
     "state": {
      "_model_module": "@jupyter-widgets/base",
      "_model_module_version": "1.2.0",
      "_model_name": "LayoutModel",
      "_view_count": null,
      "_view_module": "@jupyter-widgets/base",
      "_view_module_version": "1.2.0",
      "_view_name": "LayoutView",
      "align_content": null,
      "align_items": null,
      "align_self": null,
      "border": null,
      "bottom": null,
      "display": null,
      "flex": null,
      "flex_flow": null,
      "grid_area": null,
      "grid_auto_columns": null,
      "grid_auto_flow": null,
      "grid_auto_rows": null,
      "grid_column": null,
      "grid_gap": null,
      "grid_row": null,
      "grid_template_areas": null,
      "grid_template_columns": null,
      "grid_template_rows": null,
      "height": null,
      "justify_content": null,
      "justify_items": null,
      "left": null,
      "margin": null,
      "max_height": null,
      "max_width": null,
      "min_height": null,
      "min_width": null,
      "object_fit": null,
      "object_position": null,
      "order": null,
      "overflow": null,
      "overflow_x": null,
      "overflow_y": null,
      "padding": null,
      "right": null,
      "top": null,
      "visibility": null,
      "width": null
     }
    },
    "3d389bb309894b5dad39fb56579a680a": {
     "model_module": "@jupyter-widgets/controls",
     "model_module_version": "1.5.0",
     "model_name": "DescriptionStyleModel",
     "state": {
      "_model_module": "@jupyter-widgets/controls",
      "_model_module_version": "1.5.0",
      "_model_name": "DescriptionStyleModel",
      "_view_count": null,
      "_view_module": "@jupyter-widgets/base",
      "_view_module_version": "1.2.0",
      "_view_name": "StyleView",
      "description_width": ""
     }
    },
    "445d56352e1c4f3eaec8399fcdd70f8b": {
     "model_module": "@jupyter-widgets/controls",
     "model_module_version": "1.5.0",
     "model_name": "ProgressStyleModel",
     "state": {
      "_model_module": "@jupyter-widgets/controls",
      "_model_module_version": "1.5.0",
      "_model_name": "ProgressStyleModel",
      "_view_count": null,
      "_view_module": "@jupyter-widgets/base",
      "_view_module_version": "1.2.0",
      "_view_name": "StyleView",
      "bar_color": null,
      "description_width": ""
     }
    },
    "45dd9b4725324df795a8edc63c0db495": {
     "model_module": "@jupyter-widgets/base",
     "model_module_version": "1.2.0",
     "model_name": "LayoutModel",
     "state": {
      "_model_module": "@jupyter-widgets/base",
      "_model_module_version": "1.2.0",
      "_model_name": "LayoutModel",
      "_view_count": null,
      "_view_module": "@jupyter-widgets/base",
      "_view_module_version": "1.2.0",
      "_view_name": "LayoutView",
      "align_content": null,
      "align_items": null,
      "align_self": null,
      "border": null,
      "bottom": null,
      "display": null,
      "flex": null,
      "flex_flow": null,
      "grid_area": null,
      "grid_auto_columns": null,
      "grid_auto_flow": null,
      "grid_auto_rows": null,
      "grid_column": null,
      "grid_gap": null,
      "grid_row": null,
      "grid_template_areas": null,
      "grid_template_columns": null,
      "grid_template_rows": null,
      "height": null,
      "justify_content": null,
      "justify_items": null,
      "left": null,
      "margin": null,
      "max_height": null,
      "max_width": null,
      "min_height": null,
      "min_width": null,
      "object_fit": null,
      "object_position": null,
      "order": null,
      "overflow": null,
      "overflow_x": null,
      "overflow_y": null,
      "padding": null,
      "right": null,
      "top": null,
      "visibility": null,
      "width": null
     }
    },
    "46949da1aec743218e6ac173a92187c2": {
     "model_module": "@jupyter-widgets/controls",
     "model_module_version": "1.5.0",
     "model_name": "DescriptionStyleModel",
     "state": {
      "_model_module": "@jupyter-widgets/controls",
      "_model_module_version": "1.5.0",
      "_model_name": "DescriptionStyleModel",
      "_view_count": null,
      "_view_module": "@jupyter-widgets/base",
      "_view_module_version": "1.2.0",
      "_view_name": "StyleView",
      "description_width": ""
     }
    },
    "4abe6fe62556453582c83f26fa5908d4": {
     "model_module": "@jupyter-widgets/controls",
     "model_module_version": "1.5.0",
     "model_name": "DescriptionStyleModel",
     "state": {
      "_model_module": "@jupyter-widgets/controls",
      "_model_module_version": "1.5.0",
      "_model_name": "DescriptionStyleModel",
      "_view_count": null,
      "_view_module": "@jupyter-widgets/base",
      "_view_module_version": "1.2.0",
      "_view_name": "StyleView",
      "description_width": ""
     }
    },
    "4ebe00b1c5bd44a882914b10ffea2214": {
     "model_module": "@jupyter-widgets/base",
     "model_module_version": "1.2.0",
     "model_name": "LayoutModel",
     "state": {
      "_model_module": "@jupyter-widgets/base",
      "_model_module_version": "1.2.0",
      "_model_name": "LayoutModel",
      "_view_count": null,
      "_view_module": "@jupyter-widgets/base",
      "_view_module_version": "1.2.0",
      "_view_name": "LayoutView",
      "align_content": null,
      "align_items": null,
      "align_self": null,
      "border": null,
      "bottom": null,
      "display": null,
      "flex": null,
      "flex_flow": null,
      "grid_area": null,
      "grid_auto_columns": null,
      "grid_auto_flow": null,
      "grid_auto_rows": null,
      "grid_column": null,
      "grid_gap": null,
      "grid_row": null,
      "grid_template_areas": null,
      "grid_template_columns": null,
      "grid_template_rows": null,
      "height": null,
      "justify_content": null,
      "justify_items": null,
      "left": null,
      "margin": null,
      "max_height": null,
      "max_width": null,
      "min_height": null,
      "min_width": null,
      "object_fit": null,
      "object_position": null,
      "order": null,
      "overflow": null,
      "overflow_x": null,
      "overflow_y": null,
      "padding": null,
      "right": null,
      "top": null,
      "visibility": null,
      "width": null
     }
    },
    "4f4193be57e947bdbbd0f317e594d038": {
     "model_module": "@jupyter-widgets/controls",
     "model_module_version": "1.5.0",
     "model_name": "HTMLModel",
     "state": {
      "_dom_classes": [],
      "_model_module": "@jupyter-widgets/controls",
      "_model_module_version": "1.5.0",
      "_model_name": "HTMLModel",
      "_view_count": null,
      "_view_module": "@jupyter-widgets/controls",
      "_view_module_version": "1.5.0",
      "_view_name": "HTMLView",
      "description": "",
      "description_tooltip": null,
      "layout": "IPY_MODEL_6e0f38b1d6e646f18f442292661dae39",
      "placeholder": "​",
      "style": "IPY_MODEL_503927f7e79747e5a048dc940d76d68b",
      "value": " 456k/456k [00:00&lt;00:00, 2.00MB/s]"
     }
    },
    "503927f7e79747e5a048dc940d76d68b": {
     "model_module": "@jupyter-widgets/controls",
     "model_module_version": "1.5.0",
     "model_name": "DescriptionStyleModel",
     "state": {
      "_model_module": "@jupyter-widgets/controls",
      "_model_module_version": "1.5.0",
      "_model_name": "DescriptionStyleModel",
      "_view_count": null,
      "_view_module": "@jupyter-widgets/base",
      "_view_module_version": "1.2.0",
      "_view_name": "StyleView",
      "description_width": ""
     }
    },
    "53c8324d537f437093d7b94e5f970d4d": {
     "model_module": "@jupyter-widgets/controls",
     "model_module_version": "1.5.0",
     "model_name": "ProgressStyleModel",
     "state": {
      "_model_module": "@jupyter-widgets/controls",
      "_model_module_version": "1.5.0",
      "_model_name": "ProgressStyleModel",
      "_view_count": null,
      "_view_module": "@jupyter-widgets/base",
      "_view_module_version": "1.2.0",
      "_view_name": "StyleView",
      "bar_color": null,
      "description_width": ""
     }
    },
    "5627d65d3ab44ee489ec6932220d66a2": {
     "model_module": "@jupyter-widgets/controls",
     "model_module_version": "1.5.0",
     "model_name": "ProgressStyleModel",
     "state": {
      "_model_module": "@jupyter-widgets/controls",
      "_model_module_version": "1.5.0",
      "_model_name": "ProgressStyleModel",
      "_view_count": null,
      "_view_module": "@jupyter-widgets/base",
      "_view_module_version": "1.2.0",
      "_view_name": "StyleView",
      "bar_color": null,
      "description_width": ""
     }
    },
    "579f4edd4402490d87194d94a0bc8c3f": {
     "model_module": "@jupyter-widgets/controls",
     "model_module_version": "1.5.0",
     "model_name": "DescriptionStyleModel",
     "state": {
      "_model_module": "@jupyter-widgets/controls",
      "_model_module_version": "1.5.0",
      "_model_name": "DescriptionStyleModel",
      "_view_count": null,
      "_view_module": "@jupyter-widgets/base",
      "_view_module_version": "1.2.0",
      "_view_name": "StyleView",
      "description_width": ""
     }
    },
    "592fc2dc8f43435aaecc8db665c3f87e": {
     "model_module": "@jupyter-widgets/base",
     "model_module_version": "1.2.0",
     "model_name": "LayoutModel",
     "state": {
      "_model_module": "@jupyter-widgets/base",
      "_model_module_version": "1.2.0",
      "_model_name": "LayoutModel",
      "_view_count": null,
      "_view_module": "@jupyter-widgets/base",
      "_view_module_version": "1.2.0",
      "_view_name": "LayoutView",
      "align_content": null,
      "align_items": null,
      "align_self": null,
      "border": null,
      "bottom": null,
      "display": null,
      "flex": null,
      "flex_flow": null,
      "grid_area": null,
      "grid_auto_columns": null,
      "grid_auto_flow": null,
      "grid_auto_rows": null,
      "grid_column": null,
      "grid_gap": null,
      "grid_row": null,
      "grid_template_areas": null,
      "grid_template_columns": null,
      "grid_template_rows": null,
      "height": null,
      "justify_content": null,
      "justify_items": null,
      "left": null,
      "margin": null,
      "max_height": null,
      "max_width": null,
      "min_height": null,
      "min_width": null,
      "object_fit": null,
      "object_position": null,
      "order": null,
      "overflow": null,
      "overflow_x": null,
      "overflow_y": null,
      "padding": null,
      "right": null,
      "top": null,
      "visibility": null,
      "width": null
     }
    },
    "5c04d002068649639bed432913fecca3": {
     "model_module": "@jupyter-widgets/base",
     "model_module_version": "1.2.0",
     "model_name": "LayoutModel",
     "state": {
      "_model_module": "@jupyter-widgets/base",
      "_model_module_version": "1.2.0",
      "_model_name": "LayoutModel",
      "_view_count": null,
      "_view_module": "@jupyter-widgets/base",
      "_view_module_version": "1.2.0",
      "_view_name": "LayoutView",
      "align_content": null,
      "align_items": null,
      "align_self": null,
      "border": null,
      "bottom": null,
      "display": null,
      "flex": null,
      "flex_flow": null,
      "grid_area": null,
      "grid_auto_columns": null,
      "grid_auto_flow": null,
      "grid_auto_rows": null,
      "grid_column": null,
      "grid_gap": null,
      "grid_row": null,
      "grid_template_areas": null,
      "grid_template_columns": null,
      "grid_template_rows": null,
      "height": null,
      "justify_content": null,
      "justify_items": null,
      "left": null,
      "margin": null,
      "max_height": null,
      "max_width": null,
      "min_height": null,
      "min_width": null,
      "object_fit": null,
      "object_position": null,
      "order": null,
      "overflow": null,
      "overflow_x": null,
      "overflow_y": null,
      "padding": null,
      "right": null,
      "top": null,
      "visibility": null,
      "width": null
     }
    },
    "61b198b9acef4974bc19ef93b08da37c": {
     "model_module": "@jupyter-widgets/controls",
     "model_module_version": "1.5.0",
     "model_name": "HTMLModel",
     "state": {
      "_dom_classes": [],
      "_model_module": "@jupyter-widgets/controls",
      "_model_module_version": "1.5.0",
      "_model_name": "HTMLModel",
      "_view_count": null,
      "_view_module": "@jupyter-widgets/controls",
      "_view_module_version": "1.5.0",
      "_view_name": "HTMLView",
      "description": "",
      "description_tooltip": null,
      "layout": "IPY_MODEL_7835d970bb784ae3af2fe14eab378ac8",
      "placeholder": "​",
      "style": "IPY_MODEL_46949da1aec743218e6ac173a92187c2",
      "value": " 772/772 [00:00&lt;00:00, 56.4kB/s]"
     }
    },
    "62deb3b32a384f3498381119bf12e7f2": {
     "model_module": "@jupyter-widgets/controls",
     "model_module_version": "1.5.0",
     "model_name": "ProgressStyleModel",
     "state": {
      "_model_module": "@jupyter-widgets/controls",
      "_model_module_version": "1.5.0",
      "_model_name": "ProgressStyleModel",
      "_view_count": null,
      "_view_module": "@jupyter-widgets/base",
      "_view_module_version": "1.2.0",
      "_view_name": "StyleView",
      "bar_color": null,
      "description_width": ""
     }
    },
    "639878d38cc4437d94ada2dd72a9b3ac": {
     "model_module": "@jupyter-widgets/controls",
     "model_module_version": "1.5.0",
     "model_name": "DescriptionStyleModel",
     "state": {
      "_model_module": "@jupyter-widgets/controls",
      "_model_module_version": "1.5.0",
      "_model_name": "DescriptionStyleModel",
      "_view_count": null,
      "_view_module": "@jupyter-widgets/base",
      "_view_module_version": "1.2.0",
      "_view_name": "StyleView",
      "description_width": ""
     }
    },
    "64837bbd8c8a486d91edbc27181c0f10": {
     "model_module": "@jupyter-widgets/controls",
     "model_module_version": "1.5.0",
     "model_name": "FloatProgressModel",
     "state": {
      "_dom_classes": [],
      "_model_module": "@jupyter-widgets/controls",
      "_model_module_version": "1.5.0",
      "_model_name": "FloatProgressModel",
      "_view_count": null,
      "_view_module": "@jupyter-widgets/controls",
      "_view_module_version": "1.5.0",
      "_view_name": "ProgressView",
      "bar_style": "success",
      "description": "",
      "description_tooltip": null,
      "layout": "IPY_MODEL_03b8123f80be4e4192fe9505e11483ac",
      "max": 4126,
      "min": 0,
      "orientation": "horizontal",
      "style": "IPY_MODEL_cc9333ce522d47e3b24da098624def66",
      "value": 4126
     }
    },
    "64a410fbb9184b6fa677b772008bfbac": {
     "model_module": "@jupyter-widgets/base",
     "model_module_version": "1.2.0",
     "model_name": "LayoutModel",
     "state": {
      "_model_module": "@jupyter-widgets/base",
      "_model_module_version": "1.2.0",
      "_model_name": "LayoutModel",
      "_view_count": null,
      "_view_module": "@jupyter-widgets/base",
      "_view_module_version": "1.2.0",
      "_view_name": "LayoutView",
      "align_content": null,
      "align_items": null,
      "align_self": null,
      "border": null,
      "bottom": null,
      "display": null,
      "flex": null,
      "flex_flow": null,
      "grid_area": null,
      "grid_auto_columns": null,
      "grid_auto_flow": null,
      "grid_auto_rows": null,
      "grid_column": null,
      "grid_gap": null,
      "grid_row": null,
      "grid_template_areas": null,
      "grid_template_columns": null,
      "grid_template_rows": null,
      "height": null,
      "justify_content": null,
      "justify_items": null,
      "left": null,
      "margin": null,
      "max_height": null,
      "max_width": null,
      "min_height": null,
      "min_width": null,
      "object_fit": null,
      "object_position": null,
      "order": null,
      "overflow": null,
      "overflow_x": null,
      "overflow_y": null,
      "padding": null,
      "right": null,
      "top": null,
      "visibility": null,
      "width": null
     }
    },
    "6ac13fe45f3843038676fbca3fdf4475": {
     "model_module": "@jupyter-widgets/controls",
     "model_module_version": "1.5.0",
     "model_name": "HBoxModel",
     "state": {
      "_dom_classes": [],
      "_model_module": "@jupyter-widgets/controls",
      "_model_module_version": "1.5.0",
      "_model_name": "HBoxModel",
      "_view_count": null,
      "_view_module": "@jupyter-widgets/controls",
      "_view_module_version": "1.5.0",
      "_view_name": "HBoxView",
      "box_style": "",
      "children": [
       "IPY_MODEL_153d23ce75524e4eb1747bd6f7a514e4",
       "IPY_MODEL_1ceb27e57e61490ba46932bf47a050b9",
       "IPY_MODEL_b8e5ce5e3c01440596f1b541e1e85a37"
      ],
      "layout": "IPY_MODEL_9592d3e0e482490fba8bc6c7926e150e"
     }
    },
    "6e0f38b1d6e646f18f442292661dae39": {
     "model_module": "@jupyter-widgets/base",
     "model_module_version": "1.2.0",
     "model_name": "LayoutModel",
     "state": {
      "_model_module": "@jupyter-widgets/base",
      "_model_module_version": "1.2.0",
      "_model_name": "LayoutModel",
      "_view_count": null,
      "_view_module": "@jupyter-widgets/base",
      "_view_module_version": "1.2.0",
      "_view_name": "LayoutView",
      "align_content": null,
      "align_items": null,
      "align_self": null,
      "border": null,
      "bottom": null,
      "display": null,
      "flex": null,
      "flex_flow": null,
      "grid_area": null,
      "grid_auto_columns": null,
      "grid_auto_flow": null,
      "grid_auto_rows": null,
      "grid_column": null,
      "grid_gap": null,
      "grid_row": null,
      "grid_template_areas": null,
      "grid_template_columns": null,
      "grid_template_rows": null,
      "height": null,
      "justify_content": null,
      "justify_items": null,
      "left": null,
      "margin": null,
      "max_height": null,
      "max_width": null,
      "min_height": null,
      "min_width": null,
      "object_fit": null,
      "object_position": null,
      "order": null,
      "overflow": null,
      "overflow_x": null,
      "overflow_y": null,
      "padding": null,
      "right": null,
      "top": null,
      "visibility": null,
      "width": null
     }
    },
    "6fd3489d734d4901bff487f1e29d5469": {
     "model_module": "@jupyter-widgets/controls",
     "model_module_version": "1.5.0",
     "model_name": "HTMLModel",
     "state": {
      "_dom_classes": [],
      "_model_module": "@jupyter-widgets/controls",
      "_model_module_version": "1.5.0",
      "_model_name": "HTMLModel",
      "_view_count": null,
      "_view_module": "@jupyter-widgets/controls",
      "_view_module_version": "1.5.0",
      "_view_name": "HTMLView",
      "description": "",
      "description_tooltip": null,
      "layout": "IPY_MODEL_86ce0785c7f14ada9bdf672e8e2b2302",
      "placeholder": "​",
      "style": "IPY_MODEL_7f1c09c1a7f54c3babfa7972870363a2",
      "value": "model.safetensors: 100%"
     }
    },
    "70309f0340d94c768b14345ef19517e5": {
     "model_module": "@jupyter-widgets/controls",
     "model_module_version": "1.5.0",
     "model_name": "FloatProgressModel",
     "state": {
      "_dom_classes": [],
      "_model_module": "@jupyter-widgets/controls",
      "_model_module_version": "1.5.0",
      "_model_name": "FloatProgressModel",
      "_view_count": null,
      "_view_module": "@jupyter-widgets/controls",
      "_view_module_version": "1.5.0",
      "_view_name": "ProgressView",
      "bar_style": "success",
      "description": "",
      "description_tooltip": null,
      "layout": "IPY_MODEL_c4f0cce6c6a049e2a9659d106d0e54ce",
      "max": 190,
      "min": 0,
      "orientation": "horizontal",
      "style": "IPY_MODEL_cf73205cfb874949920fcaa36765b042",
      "value": 190
     }
    },
    "707c58f7ef54483a80901d8f73bb9318": {
     "model_module": "@jupyter-widgets/controls",
     "model_module_version": "1.5.0",
     "model_name": "HTMLModel",
     "state": {
      "_dom_classes": [],
      "_model_module": "@jupyter-widgets/controls",
      "_model_module_version": "1.5.0",
      "_model_name": "HTMLModel",
      "_view_count": null,
      "_view_module": "@jupyter-widgets/controls",
      "_view_module_version": "1.5.0",
      "_view_name": "HTMLView",
      "description": "",
      "description_tooltip": null,
      "layout": "IPY_MODEL_c376d6922bae4cf0a70ac1427befcee7",
      "placeholder": "​",
      "style": "IPY_MODEL_f68be05ce5de4ad28adf8b703d16bede",
      "value": " 4.13k/4.13k [00:00&lt;00:00, 298kB/s]"
     }
    },
    "739121c39ab34d6b92a081fc01667c9c": {
     "model_module": "@jupyter-widgets/base",
     "model_module_version": "1.2.0",
     "model_name": "LayoutModel",
     "state": {
      "_model_module": "@jupyter-widgets/base",
      "_model_module_version": "1.2.0",
      "_model_name": "LayoutModel",
      "_view_count": null,
      "_view_module": "@jupyter-widgets/base",
      "_view_module_version": "1.2.0",
      "_view_name": "LayoutView",
      "align_content": null,
      "align_items": null,
      "align_self": null,
      "border": null,
      "bottom": null,
      "display": null,
      "flex": null,
      "flex_flow": null,
      "grid_area": null,
      "grid_auto_columns": null,
      "grid_auto_flow": null,
      "grid_auto_rows": null,
      "grid_column": null,
      "grid_gap": null,
      "grid_row": null,
      "grid_template_areas": null,
      "grid_template_columns": null,
      "grid_template_rows": null,
      "height": null,
      "justify_content": null,
      "justify_items": null,
      "left": null,
      "margin": null,
      "max_height": null,
      "max_width": null,
      "min_height": null,
      "min_width": null,
      "object_fit": null,
      "object_position": null,
      "order": null,
      "overflow": null,
      "overflow_x": null,
      "overflow_y": null,
      "padding": null,
      "right": null,
      "top": null,
      "visibility": null,
      "width": null
     }
    },
    "764e806b714746aebdaaf8d8710236a3": {
     "model_module": "@jupyter-widgets/base",
     "model_module_version": "1.2.0",
     "model_name": "LayoutModel",
     "state": {
      "_model_module": "@jupyter-widgets/base",
      "_model_module_version": "1.2.0",
      "_model_name": "LayoutModel",
      "_view_count": null,
      "_view_module": "@jupyter-widgets/base",
      "_view_module_version": "1.2.0",
      "_view_name": "LayoutView",
      "align_content": null,
      "align_items": null,
      "align_self": null,
      "border": null,
      "bottom": null,
      "display": null,
      "flex": null,
      "flex_flow": null,
      "grid_area": null,
      "grid_auto_columns": null,
      "grid_auto_flow": null,
      "grid_auto_rows": null,
      "grid_column": null,
      "grid_gap": null,
      "grid_row": null,
      "grid_template_areas": null,
      "grid_template_columns": null,
      "grid_template_rows": null,
      "height": null,
      "justify_content": null,
      "justify_items": null,
      "left": null,
      "margin": null,
      "max_height": null,
      "max_width": null,
      "min_height": null,
      "min_width": null,
      "object_fit": null,
      "object_position": null,
      "order": null,
      "overflow": null,
      "overflow_x": null,
      "overflow_y": null,
      "padding": null,
      "right": null,
      "top": null,
      "visibility": null,
      "width": null
     }
    },
    "77664c80280f4a1fa3c1faedaf729e97": {
     "model_module": "@jupyter-widgets/base",
     "model_module_version": "1.2.0",
     "model_name": "LayoutModel",
     "state": {
      "_model_module": "@jupyter-widgets/base",
      "_model_module_version": "1.2.0",
      "_model_name": "LayoutModel",
      "_view_count": null,
      "_view_module": "@jupyter-widgets/base",
      "_view_module_version": "1.2.0",
      "_view_name": "LayoutView",
      "align_content": null,
      "align_items": null,
      "align_self": null,
      "border": null,
      "bottom": null,
      "display": null,
      "flex": null,
      "flex_flow": null,
      "grid_area": null,
      "grid_auto_columns": null,
      "grid_auto_flow": null,
      "grid_auto_rows": null,
      "grid_column": null,
      "grid_gap": null,
      "grid_row": null,
      "grid_template_areas": null,
      "grid_template_columns": null,
      "grid_template_rows": null,
      "height": null,
      "justify_content": null,
      "justify_items": null,
      "left": null,
      "margin": null,
      "max_height": null,
      "max_width": null,
      "min_height": null,
      "min_width": null,
      "object_fit": null,
      "object_position": null,
      "order": null,
      "overflow": null,
      "overflow_x": null,
      "overflow_y": null,
      "padding": null,
      "right": null,
      "top": null,
      "visibility": null,
      "width": null
     }
    },
    "7835d970bb784ae3af2fe14eab378ac8": {
     "model_module": "@jupyter-widgets/base",
     "model_module_version": "1.2.0",
     "model_name": "LayoutModel",
     "state": {
      "_model_module": "@jupyter-widgets/base",
      "_model_module_version": "1.2.0",
      "_model_name": "LayoutModel",
      "_view_count": null,
      "_view_module": "@jupyter-widgets/base",
      "_view_module_version": "1.2.0",
      "_view_name": "LayoutView",
      "align_content": null,
      "align_items": null,
      "align_self": null,
      "border": null,
      "bottom": null,
      "display": null,
      "flex": null,
      "flex_flow": null,
      "grid_area": null,
      "grid_auto_columns": null,
      "grid_auto_flow": null,
      "grid_auto_rows": null,
      "grid_column": null,
      "grid_gap": null,
      "grid_row": null,
      "grid_template_areas": null,
      "grid_template_columns": null,
      "grid_template_rows": null,
      "height": null,
      "justify_content": null,
      "justify_items": null,
      "left": null,
      "margin": null,
      "max_height": null,
      "max_width": null,
      "min_height": null,
      "min_width": null,
      "object_fit": null,
      "object_position": null,
      "order": null,
      "overflow": null,
      "overflow_x": null,
      "overflow_y": null,
      "padding": null,
      "right": null,
      "top": null,
      "visibility": null,
      "width": null
     }
    },
    "7f1c09c1a7f54c3babfa7972870363a2": {
     "model_module": "@jupyter-widgets/controls",
     "model_module_version": "1.5.0",
     "model_name": "DescriptionStyleModel",
     "state": {
      "_model_module": "@jupyter-widgets/controls",
      "_model_module_version": "1.5.0",
      "_model_name": "DescriptionStyleModel",
      "_view_count": null,
      "_view_module": "@jupyter-widgets/base",
      "_view_module_version": "1.2.0",
      "_view_name": "StyleView",
      "description_width": ""
     }
    },
    "83b47675c8364943a52603b47383a82e": {
     "model_module": "@jupyter-widgets/controls",
     "model_module_version": "1.5.0",
     "model_name": "DescriptionStyleModel",
     "state": {
      "_model_module": "@jupyter-widgets/controls",
      "_model_module_version": "1.5.0",
      "_model_name": "DescriptionStyleModel",
      "_view_count": null,
      "_view_module": "@jupyter-widgets/base",
      "_view_module_version": "1.2.0",
      "_view_name": "StyleView",
      "description_width": ""
     }
    },
    "83b962548015424e8472505088c62908": {
     "model_module": "@jupyter-widgets/base",
     "model_module_version": "1.2.0",
     "model_name": "LayoutModel",
     "state": {
      "_model_module": "@jupyter-widgets/base",
      "_model_module_version": "1.2.0",
      "_model_name": "LayoutModel",
      "_view_count": null,
      "_view_module": "@jupyter-widgets/base",
      "_view_module_version": "1.2.0",
      "_view_name": "LayoutView",
      "align_content": null,
      "align_items": null,
      "align_self": null,
      "border": null,
      "bottom": null,
      "display": null,
      "flex": null,
      "flex_flow": null,
      "grid_area": null,
      "grid_auto_columns": null,
      "grid_auto_flow": null,
      "grid_auto_rows": null,
      "grid_column": null,
      "grid_gap": null,
      "grid_row": null,
      "grid_template_areas": null,
      "grid_template_columns": null,
      "grid_template_rows": null,
      "height": null,
      "justify_content": null,
      "justify_items": null,
      "left": null,
      "margin": null,
      "max_height": null,
      "max_width": null,
      "min_height": null,
      "min_width": null,
      "object_fit": null,
      "object_position": null,
      "order": null,
      "overflow": null,
      "overflow_x": null,
      "overflow_y": null,
      "padding": null,
      "right": null,
      "top": null,
      "visibility": null,
      "width": null
     }
    },
    "84d38ca6558d4e0092d4ac7324411c83": {
     "model_module": "@jupyter-widgets/controls",
     "model_module_version": "1.5.0",
     "model_name": "DescriptionStyleModel",
     "state": {
      "_model_module": "@jupyter-widgets/controls",
      "_model_module_version": "1.5.0",
      "_model_name": "DescriptionStyleModel",
      "_view_count": null,
      "_view_module": "@jupyter-widgets/base",
      "_view_module_version": "1.2.0",
      "_view_name": "StyleView",
      "description_width": ""
     }
    },
    "85179802fa1447c6b8923f3d71e8237c": {
     "model_module": "@jupyter-widgets/base",
     "model_module_version": "1.2.0",
     "model_name": "LayoutModel",
     "state": {
      "_model_module": "@jupyter-widgets/base",
      "_model_module_version": "1.2.0",
      "_model_name": "LayoutModel",
      "_view_count": null,
      "_view_module": "@jupyter-widgets/base",
      "_view_module_version": "1.2.0",
      "_view_name": "LayoutView",
      "align_content": null,
      "align_items": null,
      "align_self": null,
      "border": null,
      "bottom": null,
      "display": null,
      "flex": null,
      "flex_flow": null,
      "grid_area": null,
      "grid_auto_columns": null,
      "grid_auto_flow": null,
      "grid_auto_rows": null,
      "grid_column": null,
      "grid_gap": null,
      "grid_row": null,
      "grid_template_areas": null,
      "grid_template_columns": null,
      "grid_template_rows": null,
      "height": null,
      "justify_content": null,
      "justify_items": null,
      "left": null,
      "margin": null,
      "max_height": null,
      "max_width": null,
      "min_height": null,
      "min_width": null,
      "object_fit": null,
      "object_position": null,
      "order": null,
      "overflow": null,
      "overflow_x": null,
      "overflow_y": null,
      "padding": null,
      "right": null,
      "top": null,
      "visibility": null,
      "width": null
     }
    },
    "86ce0785c7f14ada9bdf672e8e2b2302": {
     "model_module": "@jupyter-widgets/base",
     "model_module_version": "1.2.0",
     "model_name": "LayoutModel",
     "state": {
      "_model_module": "@jupyter-widgets/base",
      "_model_module_version": "1.2.0",
      "_model_name": "LayoutModel",
      "_view_count": null,
      "_view_module": "@jupyter-widgets/base",
      "_view_module_version": "1.2.0",
      "_view_name": "LayoutView",
      "align_content": null,
      "align_items": null,
      "align_self": null,
      "border": null,
      "bottom": null,
      "display": null,
      "flex": null,
      "flex_flow": null,
      "grid_area": null,
      "grid_auto_columns": null,
      "grid_auto_flow": null,
      "grid_auto_rows": null,
      "grid_column": null,
      "grid_gap": null,
      "grid_row": null,
      "grid_template_areas": null,
      "grid_template_columns": null,
      "grid_template_rows": null,
      "height": null,
      "justify_content": null,
      "justify_items": null,
      "left": null,
      "margin": null,
      "max_height": null,
      "max_width": null,
      "min_height": null,
      "min_width": null,
      "object_fit": null,
      "object_position": null,
      "order": null,
      "overflow": null,
      "overflow_x": null,
      "overflow_y": null,
      "padding": null,
      "right": null,
      "top": null,
      "visibility": null,
      "width": null
     }
    },
    "8908cd48f1794113944a73748e85db7f": {
     "model_module": "@jupyter-widgets/controls",
     "model_module_version": "1.5.0",
     "model_name": "DescriptionStyleModel",
     "state": {
      "_model_module": "@jupyter-widgets/controls",
      "_model_module_version": "1.5.0",
      "_model_name": "DescriptionStyleModel",
      "_view_count": null,
      "_view_module": "@jupyter-widgets/base",
      "_view_module_version": "1.2.0",
      "_view_name": "StyleView",
      "description_width": ""
     }
    },
    "9592d3e0e482490fba8bc6c7926e150e": {
     "model_module": "@jupyter-widgets/base",
     "model_module_version": "1.2.0",
     "model_name": "LayoutModel",
     "state": {
      "_model_module": "@jupyter-widgets/base",
      "_model_module_version": "1.2.0",
      "_model_name": "LayoutModel",
      "_view_count": null,
      "_view_module": "@jupyter-widgets/base",
      "_view_module_version": "1.2.0",
      "_view_name": "LayoutView",
      "align_content": null,
      "align_items": null,
      "align_self": null,
      "border": null,
      "bottom": null,
      "display": null,
      "flex": null,
      "flex_flow": null,
      "grid_area": null,
      "grid_auto_columns": null,
      "grid_auto_flow": null,
      "grid_auto_rows": null,
      "grid_column": null,
      "grid_gap": null,
      "grid_row": null,
      "grid_template_areas": null,
      "grid_template_columns": null,
      "grid_template_rows": null,
      "height": null,
      "justify_content": null,
      "justify_items": null,
      "left": null,
      "margin": null,
      "max_height": null,
      "max_width": null,
      "min_height": null,
      "min_width": null,
      "object_fit": null,
      "object_position": null,
      "order": null,
      "overflow": null,
      "overflow_x": null,
      "overflow_y": null,
      "padding": null,
      "right": null,
      "top": null,
      "visibility": null,
      "width": null
     }
    },
    "9772ef359b5545e3aad86fa43ed87b39": {
     "model_module": "@jupyter-widgets/controls",
     "model_module_version": "1.5.0",
     "model_name": "HBoxModel",
     "state": {
      "_dom_classes": [],
      "_model_module": "@jupyter-widgets/controls",
      "_model_module_version": "1.5.0",
      "_model_name": "HBoxModel",
      "_view_count": null,
      "_view_module": "@jupyter-widgets/controls",
      "_view_module_version": "1.5.0",
      "_view_name": "HBoxView",
      "box_style": "",
      "children": [
       "IPY_MODEL_3945b5b1e6da48259676aae86f9a471f",
       "IPY_MODEL_64837bbd8c8a486d91edbc27181c0f10",
       "IPY_MODEL_707c58f7ef54483a80901d8f73bb9318"
      ],
      "layout": "IPY_MODEL_ce146e9d5d444f9c92eccc377bd95f4d"
     }
    },
    "99301539aa52462f9cc2129454108c75": {
     "model_module": "@jupyter-widgets/controls",
     "model_module_version": "1.5.0",
     "model_name": "FloatProgressModel",
     "state": {
      "_dom_classes": [],
      "_model_module": "@jupyter-widgets/controls",
      "_model_module_version": "1.5.0",
      "_model_name": "FloatProgressModel",
      "_view_count": null,
      "_view_module": "@jupyter-widgets/controls",
      "_view_module_version": "1.5.0",
      "_view_name": "ProgressView",
      "bar_style": "success",
      "description": "",
      "description_tooltip": null,
      "layout": "IPY_MODEL_0134e83226cc43e181a6c84647ccc09a",
      "max": 772,
      "min": 0,
      "orientation": "horizontal",
      "style": "IPY_MODEL_5627d65d3ab44ee489ec6932220d66a2",
      "value": 772
     }
    },
    "9cf48e4982cf4e0bb2ea88b4641000d9": {
     "model_module": "@jupyter-widgets/controls",
     "model_module_version": "1.5.0",
     "model_name": "HBoxModel",
     "state": {
      "_dom_classes": [],
      "_model_module": "@jupyter-widgets/controls",
      "_model_module_version": "1.5.0",
      "_model_name": "HBoxModel",
      "_view_count": null,
      "_view_module": "@jupyter-widgets/controls",
      "_view_module_version": "1.5.0",
      "_view_name": "HBoxView",
      "box_style": "",
      "children": [
       "IPY_MODEL_d54262167f844a038aa545036add933a",
       "IPY_MODEL_eb18a6e2c88b4ede8c7ccd7f5ce9d037",
       "IPY_MODEL_da5e169352cf4047924297d8af4c6e49"
      ],
      "layout": "IPY_MODEL_45dd9b4725324df795a8edc63c0db495"
     }
    },
    "a509f7f5990542a2a23afa0eabb5afda": {
     "model_module": "@jupyter-widgets/controls",
     "model_module_version": "1.5.0",
     "model_name": "HTMLModel",
     "state": {
      "_dom_classes": [],
      "_model_module": "@jupyter-widgets/controls",
      "_model_module_version": "1.5.0",
      "_model_name": "HTMLModel",
      "_view_count": null,
      "_view_module": "@jupyter-widgets/controls",
      "_view_module_version": "1.5.0",
      "_view_name": "HTMLView",
      "description": "",
      "description_tooltip": null,
      "layout": "IPY_MODEL_20db095bbfc140b3a02e9062baec0229",
      "placeholder": "​",
      "style": "IPY_MODEL_3d389bb309894b5dad39fb56579a680a",
      "value": "special_tokens_map.json: 100%"
     }
    },
    "a5cd1248fa17401ba882c75a58c12a2e": {
     "model_module": "@jupyter-widgets/controls",
     "model_module_version": "1.5.0",
     "model_name": "HTMLModel",
     "state": {
      "_dom_classes": [],
      "_model_module": "@jupyter-widgets/controls",
      "_model_module_version": "1.5.0",
      "_model_name": "HTMLModel",
      "_view_count": null,
      "_view_module": "@jupyter-widgets/controls",
      "_view_module_version": "1.5.0",
      "_view_name": "HTMLView",
      "description": "",
      "description_tooltip": null,
      "layout": "IPY_MODEL_fd58061acdba471a86d7225edd5d8b56",
      "placeholder": "​",
      "style": "IPY_MODEL_579f4edd4402490d87194d94a0bc8c3f",
      "value": "tokenizer_config.json: 100%"
     }
    },
    "a8d9d5258da548f5b00c6d5b6c0b250f": {
     "model_module": "@jupyter-widgets/controls",
     "model_module_version": "1.5.0",
     "model_name": "HTMLModel",
     "state": {
      "_dom_classes": [],
      "_model_module": "@jupyter-widgets/controls",
      "_model_module_version": "1.5.0",
      "_model_name": "HTMLModel",
      "_view_count": null,
      "_view_module": "@jupyter-widgets/controls",
      "_view_module_version": "1.5.0",
      "_view_name": "HTMLView",
      "description": "",
      "description_tooltip": null,
      "layout": "IPY_MODEL_64a410fbb9184b6fa677b772008bfbac",
      "placeholder": "​",
      "style": "IPY_MODEL_eb737b33347548b68b5e3bbca4bc7af0",
      "value": " 1.12k/1.12k [00:00&lt;00:00, 63.2kB/s]"
     }
    },
    "ad25899500bd4e968f4f5bb8edf51f98": {
     "model_module": "@jupyter-widgets/controls",
     "model_module_version": "1.5.0",
     "model_name": "HTMLModel",
     "state": {
      "_dom_classes": [],
      "_model_module": "@jupyter-widgets/controls",
      "_model_module_version": "1.5.0",
      "_model_name": "HTMLModel",
      "_view_count": null,
      "_view_module": "@jupyter-widgets/controls",
      "_view_module_version": "1.5.0",
      "_view_name": "HTMLView",
      "description": "",
      "description_tooltip": null,
      "layout": "IPY_MODEL_2ecff6d371e644bba48442ca6cf0fbab",
      "placeholder": "​",
      "style": "IPY_MODEL_84d38ca6558d4e0092d4ac7324411c83",
      "value": " 190/190 [00:00&lt;00:00, 13.6kB/s]"
     }
    },
    "b0afbed3e5e647eebc46aac040671b48": {
     "model_module": "@jupyter-widgets/base",
     "model_module_version": "1.2.0",
     "model_name": "LayoutModel",
     "state": {
      "_model_module": "@jupyter-widgets/base",
      "_model_module_version": "1.2.0",
      "_model_name": "LayoutModel",
      "_view_count": null,
      "_view_module": "@jupyter-widgets/base",
      "_view_module_version": "1.2.0",
      "_view_name": "LayoutView",
      "align_content": null,
      "align_items": null,
      "align_self": null,
      "border": null,
      "bottom": null,
      "display": null,
      "flex": null,
      "flex_flow": null,
      "grid_area": null,
      "grid_auto_columns": null,
      "grid_auto_flow": null,
      "grid_auto_rows": null,
      "grid_column": null,
      "grid_gap": null,
      "grid_row": null,
      "grid_template_areas": null,
      "grid_template_columns": null,
      "grid_template_rows": null,
      "height": null,
      "justify_content": null,
      "justify_items": null,
      "left": null,
      "margin": null,
      "max_height": null,
      "max_width": null,
      "min_height": null,
      "min_width": null,
      "object_fit": null,
      "object_position": null,
      "order": null,
      "overflow": null,
      "overflow_x": null,
      "overflow_y": null,
      "padding": null,
      "right": null,
      "top": null,
      "visibility": null,
      "width": null
     }
    },
    "b0f9df691bdb41a292addca3552dacee": {
     "model_module": "@jupyter-widgets/controls",
     "model_module_version": "1.5.0",
     "model_name": "HTMLModel",
     "state": {
      "_dom_classes": [],
      "_model_module": "@jupyter-widgets/controls",
      "_model_module_version": "1.5.0",
      "_model_name": "HTMLModel",
      "_view_count": null,
      "_view_module": "@jupyter-widgets/controls",
      "_view_module_version": "1.5.0",
      "_view_name": "HTMLView",
      "description": "",
      "description_tooltip": null,
      "layout": "IPY_MODEL_e4ee7d7437de41318b81e0fd319fd1c5",
      "placeholder": "​",
      "style": "IPY_MODEL_f0c718ac3e074814b87fd9bc42e3aa25",
      "value": "merges.txt: 100%"
     }
    },
    "b50924f4ba9e4d3bb5df1628e50146be": {
     "model_module": "@jupyter-widgets/base",
     "model_module_version": "1.2.0",
     "model_name": "LayoutModel",
     "state": {
      "_model_module": "@jupyter-widgets/base",
      "_model_module_version": "1.2.0",
      "_model_name": "LayoutModel",
      "_view_count": null,
      "_view_module": "@jupyter-widgets/base",
      "_view_module_version": "1.2.0",
      "_view_name": "LayoutView",
      "align_content": null,
      "align_items": null,
      "align_self": null,
      "border": null,
      "bottom": null,
      "display": null,
      "flex": null,
      "flex_flow": null,
      "grid_area": null,
      "grid_auto_columns": null,
      "grid_auto_flow": null,
      "grid_auto_rows": null,
      "grid_column": null,
      "grid_gap": null,
      "grid_row": null,
      "grid_template_areas": null,
      "grid_template_columns": null,
      "grid_template_rows": null,
      "height": null,
      "justify_content": null,
      "justify_items": null,
      "left": null,
      "margin": null,
      "max_height": null,
      "max_width": null,
      "min_height": null,
      "min_width": null,
      "object_fit": null,
      "object_position": null,
      "order": null,
      "overflow": null,
      "overflow_x": null,
      "overflow_y": null,
      "padding": null,
      "right": null,
      "top": null,
      "visibility": null,
      "width": null
     }
    },
    "b8e5ce5e3c01440596f1b541e1e85a37": {
     "model_module": "@jupyter-widgets/controls",
     "model_module_version": "1.5.0",
     "model_name": "HTMLModel",
     "state": {
      "_dom_classes": [],
      "_model_module": "@jupyter-widgets/controls",
      "_model_module_version": "1.5.0",
      "_model_name": "HTMLModel",
      "_view_count": null,
      "_view_module": "@jupyter-widgets/controls",
      "_view_module_version": "1.5.0",
      "_view_name": "HTMLView",
      "description": "",
      "description_tooltip": null,
      "layout": "IPY_MODEL_b50924f4ba9e4d3bb5df1628e50146be",
      "placeholder": "​",
      "style": "IPY_MODEL_ebf8794edc1245118cb2a2ba5a346d76",
      "value": " 224/224 [00:00&lt;00:00, 14.5kB/s]"
     }
    },
    "bd3d80a9ea90413b929751d847d4a424": {
     "model_module": "@jupyter-widgets/controls",
     "model_module_version": "1.5.0",
     "model_name": "HTMLModel",
     "state": {
      "_dom_classes": [],
      "_model_module": "@jupyter-widgets/controls",
      "_model_module_version": "1.5.0",
      "_model_name": "HTMLModel",
      "_view_count": null,
      "_view_module": "@jupyter-widgets/controls",
      "_view_module_version": "1.5.0",
      "_view_name": "HTMLView",
      "description": "",
      "description_tooltip": null,
      "layout": "IPY_MODEL_16e306ed6d444502ba5a359af6dbb883",
      "placeholder": "​",
      "style": "IPY_MODEL_f52d165761d84d76aa173b0c4c96fe22",
      "value": "generation_config.json: 100%"
     }
    },
    "c376d6922bae4cf0a70ac1427befcee7": {
     "model_module": "@jupyter-widgets/base",
     "model_module_version": "1.2.0",
     "model_name": "LayoutModel",
     "state": {
      "_model_module": "@jupyter-widgets/base",
      "_model_module_version": "1.2.0",
      "_model_name": "LayoutModel",
      "_view_count": null,
      "_view_module": "@jupyter-widgets/base",
      "_view_module_version": "1.2.0",
      "_view_name": "LayoutView",
      "align_content": null,
      "align_items": null,
      "align_self": null,
      "border": null,
      "bottom": null,
      "display": null,
      "flex": null,
      "flex_flow": null,
      "grid_area": null,
      "grid_auto_columns": null,
      "grid_auto_flow": null,
      "grid_auto_rows": null,
      "grid_column": null,
      "grid_gap": null,
      "grid_row": null,
      "grid_template_areas": null,
      "grid_template_columns": null,
      "grid_template_rows": null,
      "height": null,
      "justify_content": null,
      "justify_items": null,
      "left": null,
      "margin": null,
      "max_height": null,
      "max_width": null,
      "min_height": null,
      "min_width": null,
      "object_fit": null,
      "object_position": null,
      "order": null,
      "overflow": null,
      "overflow_x": null,
      "overflow_y": null,
      "padding": null,
      "right": null,
      "top": null,
      "visibility": null,
      "width": null
     }
    },
    "c4f0cce6c6a049e2a9659d106d0e54ce": {
     "model_module": "@jupyter-widgets/base",
     "model_module_version": "1.2.0",
     "model_name": "LayoutModel",
     "state": {
      "_model_module": "@jupyter-widgets/base",
      "_model_module_version": "1.2.0",
      "_model_name": "LayoutModel",
      "_view_count": null,
      "_view_module": "@jupyter-widgets/base",
      "_view_module_version": "1.2.0",
      "_view_name": "LayoutView",
      "align_content": null,
      "align_items": null,
      "align_self": null,
      "border": null,
      "bottom": null,
      "display": null,
      "flex": null,
      "flex_flow": null,
      "grid_area": null,
      "grid_auto_columns": null,
      "grid_auto_flow": null,
      "grid_auto_rows": null,
      "grid_column": null,
      "grid_gap": null,
      "grid_row": null,
      "grid_template_areas": null,
      "grid_template_columns": null,
      "grid_template_rows": null,
      "height": null,
      "justify_content": null,
      "justify_items": null,
      "left": null,
      "margin": null,
      "max_height": null,
      "max_width": null,
      "min_height": null,
      "min_width": null,
      "object_fit": null,
      "object_position": null,
      "order": null,
      "overflow": null,
      "overflow_x": null,
      "overflow_y": null,
      "padding": null,
      "right": null,
      "top": null,
      "visibility": null,
      "width": null
     }
    },
    "cc9333ce522d47e3b24da098624def66": {
     "model_module": "@jupyter-widgets/controls",
     "model_module_version": "1.5.0",
     "model_name": "ProgressStyleModel",
     "state": {
      "_model_module": "@jupyter-widgets/controls",
      "_model_module_version": "1.5.0",
      "_model_name": "ProgressStyleModel",
      "_view_count": null,
      "_view_module": "@jupyter-widgets/base",
      "_view_module_version": "1.2.0",
      "_view_name": "StyleView",
      "bar_color": null,
      "description_width": ""
     }
    },
    "ccdb7328706541bb9f933d1a3c463255": {
     "model_module": "@jupyter-widgets/controls",
     "model_module_version": "1.5.0",
     "model_name": "HTMLModel",
     "state": {
      "_dom_classes": [],
      "_model_module": "@jupyter-widgets/controls",
      "_model_module_version": "1.5.0",
      "_model_name": "HTMLModel",
      "_view_count": null,
      "_view_module": "@jupyter-widgets/controls",
      "_view_module_version": "1.5.0",
      "_view_name": "HTMLView",
      "description": "",
      "description_tooltip": null,
      "layout": "IPY_MODEL_85179802fa1447c6b8923f3d71e8237c",
      "placeholder": "​",
      "style": "IPY_MODEL_83b47675c8364943a52603b47383a82e",
      "value": " 1.33G/1.33G [00:12&lt;00:00, 175MB/s]"
     }
    },
    "ce146e9d5d444f9c92eccc377bd95f4d": {
     "model_module": "@jupyter-widgets/base",
     "model_module_version": "1.2.0",
     "model_name": "LayoutModel",
     "state": {
      "_model_module": "@jupyter-widgets/base",
      "_model_module_version": "1.2.0",
      "_model_name": "LayoutModel",
      "_view_count": null,
      "_view_module": "@jupyter-widgets/base",
      "_view_module_version": "1.2.0",
      "_view_name": "LayoutView",
      "align_content": null,
      "align_items": null,
      "align_self": null,
      "border": null,
      "bottom": null,
      "display": null,
      "flex": null,
      "flex_flow": null,
      "grid_area": null,
      "grid_auto_columns": null,
      "grid_auto_flow": null,
      "grid_auto_rows": null,
      "grid_column": null,
      "grid_gap": null,
      "grid_row": null,
      "grid_template_areas": null,
      "grid_template_columns": null,
      "grid_template_rows": null,
      "height": null,
      "justify_content": null,
      "justify_items": null,
      "left": null,
      "margin": null,
      "max_height": null,
      "max_width": null,
      "min_height": null,
      "min_width": null,
      "object_fit": null,
      "object_position": null,
      "order": null,
      "overflow": null,
      "overflow_x": null,
      "overflow_y": null,
      "padding": null,
      "right": null,
      "top": null,
      "visibility": null,
      "width": null
     }
    },
    "cf73205cfb874949920fcaa36765b042": {
     "model_module": "@jupyter-widgets/controls",
     "model_module_version": "1.5.0",
     "model_name": "ProgressStyleModel",
     "state": {
      "_model_module": "@jupyter-widgets/controls",
      "_model_module_version": "1.5.0",
      "_model_name": "ProgressStyleModel",
      "_view_count": null,
      "_view_module": "@jupyter-widgets/base",
      "_view_module_version": "1.2.0",
      "_view_name": "StyleView",
      "bar_color": null,
      "description_width": ""
     }
    },
    "d54262167f844a038aa545036add933a": {
     "model_module": "@jupyter-widgets/controls",
     "model_module_version": "1.5.0",
     "model_name": "HTMLModel",
     "state": {
      "_dom_classes": [],
      "_model_module": "@jupyter-widgets/controls",
      "_model_module_version": "1.5.0",
      "_model_name": "HTMLModel",
      "_view_count": null,
      "_view_module": "@jupyter-widgets/controls",
      "_view_module_version": "1.5.0",
      "_view_name": "HTMLView",
      "description": "",
      "description_tooltip": null,
      "layout": "IPY_MODEL_5c04d002068649639bed432913fecca3",
      "placeholder": "​",
      "style": "IPY_MODEL_639878d38cc4437d94ada2dd72a9b3ac",
      "value": "vocab.json: 100%"
     }
    },
    "da195fa048794d9aaa933ebc18f90dce": {
     "model_module": "@jupyter-widgets/controls",
     "model_module_version": "1.5.0",
     "model_name": "HBoxModel",
     "state": {
      "_dom_classes": [],
      "_model_module": "@jupyter-widgets/controls",
      "_model_module_version": "1.5.0",
      "_model_name": "HBoxModel",
      "_view_count": null,
      "_view_module": "@jupyter-widgets/controls",
      "_view_module_version": "1.5.0",
      "_view_name": "HBoxView",
      "box_style": "",
      "children": [
       "IPY_MODEL_b0f9df691bdb41a292addca3552dacee",
       "IPY_MODEL_083e4da6a4e74441a4e23f92ec17ab73",
       "IPY_MODEL_4f4193be57e947bdbbd0f317e594d038"
      ],
      "layout": "IPY_MODEL_f44297c306434aa0932e476d8b9fa9d2"
     }
    },
    "da5e169352cf4047924297d8af4c6e49": {
     "model_module": "@jupyter-widgets/controls",
     "model_module_version": "1.5.0",
     "model_name": "HTMLModel",
     "state": {
      "_dom_classes": [],
      "_model_module": "@jupyter-widgets/controls",
      "_model_module_version": "1.5.0",
      "_model_name": "HTMLModel",
      "_view_count": null,
      "_view_module": "@jupyter-widgets/controls",
      "_view_module_version": "1.5.0",
      "_view_name": "HTMLView",
      "description": "",
      "description_tooltip": null,
      "layout": "IPY_MODEL_764e806b714746aebdaaf8d8710236a3",
      "placeholder": "​",
      "style": "IPY_MODEL_4abe6fe62556453582c83f26fa5908d4",
      "value": " 899k/899k [00:00&lt;00:00, 1.50MB/s]"
     }
    },
    "dad46ae1e2414820857098240e3d8cb0": {
     "model_module": "@jupyter-widgets/base",
     "model_module_version": "1.2.0",
     "model_name": "LayoutModel",
     "state": {
      "_model_module": "@jupyter-widgets/base",
      "_model_module_version": "1.2.0",
      "_model_name": "LayoutModel",
      "_view_count": null,
      "_view_module": "@jupyter-widgets/base",
      "_view_module_version": "1.2.0",
      "_view_name": "LayoutView",
      "align_content": null,
      "align_items": null,
      "align_self": null,
      "border": null,
      "bottom": null,
      "display": null,
      "flex": null,
      "flex_flow": null,
      "grid_area": null,
      "grid_auto_columns": null,
      "grid_auto_flow": null,
      "grid_auto_rows": null,
      "grid_column": null,
      "grid_gap": null,
      "grid_row": null,
      "grid_template_areas": null,
      "grid_template_columns": null,
      "grid_template_rows": null,
      "height": null,
      "justify_content": null,
      "justify_items": null,
      "left": null,
      "margin": null,
      "max_height": null,
      "max_width": null,
      "min_height": null,
      "min_width": null,
      "object_fit": null,
      "object_position": null,
      "order": null,
      "overflow": null,
      "overflow_x": null,
      "overflow_y": null,
      "padding": null,
      "right": null,
      "top": null,
      "visibility": null,
      "width": null
     }
    },
    "dca4b3e9df0d49cdab952f33dd25c654": {
     "model_module": "@jupyter-widgets/controls",
     "model_module_version": "1.5.0",
     "model_name": "ProgressStyleModel",
     "state": {
      "_model_module": "@jupyter-widgets/controls",
      "_model_module_version": "1.5.0",
      "_model_name": "ProgressStyleModel",
      "_view_count": null,
      "_view_module": "@jupyter-widgets/base",
      "_view_module_version": "1.2.0",
      "_view_name": "StyleView",
      "bar_color": null,
      "description_width": ""
     }
    },
    "e4ee7d7437de41318b81e0fd319fd1c5": {
     "model_module": "@jupyter-widgets/base",
     "model_module_version": "1.2.0",
     "model_name": "LayoutModel",
     "state": {
      "_model_module": "@jupyter-widgets/base",
      "_model_module_version": "1.2.0",
      "_model_name": "LayoutModel",
      "_view_count": null,
      "_view_module": "@jupyter-widgets/base",
      "_view_module_version": "1.2.0",
      "_view_name": "LayoutView",
      "align_content": null,
      "align_items": null,
      "align_self": null,
      "border": null,
      "bottom": null,
      "display": null,
      "flex": null,
      "flex_flow": null,
      "grid_area": null,
      "grid_auto_columns": null,
      "grid_auto_flow": null,
      "grid_auto_rows": null,
      "grid_column": null,
      "grid_gap": null,
      "grid_row": null,
      "grid_template_areas": null,
      "grid_template_columns": null,
      "grid_template_rows": null,
      "height": null,
      "justify_content": null,
      "justify_items": null,
      "left": null,
      "margin": null,
      "max_height": null,
      "max_width": null,
      "min_height": null,
      "min_width": null,
      "object_fit": null,
      "object_position": null,
      "order": null,
      "overflow": null,
      "overflow_x": null,
      "overflow_y": null,
      "padding": null,
      "right": null,
      "top": null,
      "visibility": null,
      "width": null
     }
    },
    "e555236f859542a3b307e442e1420f7c": {
     "model_module": "@jupyter-widgets/controls",
     "model_module_version": "1.5.0",
     "model_name": "FloatProgressModel",
     "state": {
      "_dom_classes": [],
      "_model_module": "@jupyter-widgets/controls",
      "_model_module_version": "1.5.0",
      "_model_name": "FloatProgressModel",
      "_view_count": null,
      "_view_module": "@jupyter-widgets/controls",
      "_view_module_version": "1.5.0",
      "_view_name": "ProgressView",
      "bar_style": "success",
      "description": "",
      "description_tooltip": null,
      "layout": "IPY_MODEL_f85527bb84c04f2fa85960de7fe804da",
      "max": 1333384464,
      "min": 0,
      "orientation": "horizontal",
      "style": "IPY_MODEL_dca4b3e9df0d49cdab952f33dd25c654",
      "value": 1333384464
     }
    },
    "e5c970a4cf5d4ea490a5b83514707eb7": {
     "model_module": "@jupyter-widgets/controls",
     "model_module_version": "1.5.0",
     "model_name": "ProgressStyleModel",
     "state": {
      "_model_module": "@jupyter-widgets/controls",
      "_model_module_version": "1.5.0",
      "_model_name": "ProgressStyleModel",
      "_view_count": null,
      "_view_module": "@jupyter-widgets/base",
      "_view_module_version": "1.2.0",
      "_view_name": "StyleView",
      "bar_color": null,
      "description_width": ""
     }
    },
    "eb18a6e2c88b4ede8c7ccd7f5ce9d037": {
     "model_module": "@jupyter-widgets/controls",
     "model_module_version": "1.5.0",
     "model_name": "FloatProgressModel",
     "state": {
      "_dom_classes": [],
      "_model_module": "@jupyter-widgets/controls",
      "_model_module_version": "1.5.0",
      "_model_name": "FloatProgressModel",
      "_view_count": null,
      "_view_module": "@jupyter-widgets/controls",
      "_view_module_version": "1.5.0",
      "_view_name": "ProgressView",
      "bar_style": "success",
      "description": "",
      "description_tooltip": null,
      "layout": "IPY_MODEL_b0afbed3e5e647eebc46aac040671b48",
      "max": 898822,
      "min": 0,
      "orientation": "horizontal",
      "style": "IPY_MODEL_445d56352e1c4f3eaec8399fcdd70f8b",
      "value": 898822
     }
    },
    "eb737b33347548b68b5e3bbca4bc7af0": {
     "model_module": "@jupyter-widgets/controls",
     "model_module_version": "1.5.0",
     "model_name": "DescriptionStyleModel",
     "state": {
      "_model_module": "@jupyter-widgets/controls",
      "_model_module_version": "1.5.0",
      "_model_name": "DescriptionStyleModel",
      "_view_count": null,
      "_view_module": "@jupyter-widgets/base",
      "_view_module_version": "1.2.0",
      "_view_name": "StyleView",
      "description_width": ""
     }
    },
    "ebf8794edc1245118cb2a2ba5a346d76": {
     "model_module": "@jupyter-widgets/controls",
     "model_module_version": "1.5.0",
     "model_name": "DescriptionStyleModel",
     "state": {
      "_model_module": "@jupyter-widgets/controls",
      "_model_module_version": "1.5.0",
      "_model_name": "DescriptionStyleModel",
      "_view_count": null,
      "_view_module": "@jupyter-widgets/base",
      "_view_module_version": "1.2.0",
      "_view_name": "StyleView",
      "description_width": ""
     }
    },
    "ef0cf2b10e6b41838404c67c5e94923a": {
     "model_module": "@jupyter-widgets/base",
     "model_module_version": "1.2.0",
     "model_name": "LayoutModel",
     "state": {
      "_model_module": "@jupyter-widgets/base",
      "_model_module_version": "1.2.0",
      "_model_name": "LayoutModel",
      "_view_count": null,
      "_view_module": "@jupyter-widgets/base",
      "_view_module_version": "1.2.0",
      "_view_name": "LayoutView",
      "align_content": null,
      "align_items": null,
      "align_self": null,
      "border": null,
      "bottom": null,
      "display": null,
      "flex": null,
      "flex_flow": null,
      "grid_area": null,
      "grid_auto_columns": null,
      "grid_auto_flow": null,
      "grid_auto_rows": null,
      "grid_column": null,
      "grid_gap": null,
      "grid_row": null,
      "grid_template_areas": null,
      "grid_template_columns": null,
      "grid_template_rows": null,
      "height": null,
      "justify_content": null,
      "justify_items": null,
      "left": null,
      "margin": null,
      "max_height": null,
      "max_width": null,
      "min_height": null,
      "min_width": null,
      "object_fit": null,
      "object_position": null,
      "order": null,
      "overflow": null,
      "overflow_x": null,
      "overflow_y": null,
      "padding": null,
      "right": null,
      "top": null,
      "visibility": null,
      "width": null
     }
    },
    "f0c718ac3e074814b87fd9bc42e3aa25": {
     "model_module": "@jupyter-widgets/controls",
     "model_module_version": "1.5.0",
     "model_name": "DescriptionStyleModel",
     "state": {
      "_model_module": "@jupyter-widgets/controls",
      "_model_module_version": "1.5.0",
      "_model_name": "DescriptionStyleModel",
      "_view_count": null,
      "_view_module": "@jupyter-widgets/base",
      "_view_module_version": "1.2.0",
      "_view_name": "StyleView",
      "description_width": ""
     }
    },
    "f44297c306434aa0932e476d8b9fa9d2": {
     "model_module": "@jupyter-widgets/base",
     "model_module_version": "1.2.0",
     "model_name": "LayoutModel",
     "state": {
      "_model_module": "@jupyter-widgets/base",
      "_model_module_version": "1.2.0",
      "_model_name": "LayoutModel",
      "_view_count": null,
      "_view_module": "@jupyter-widgets/base",
      "_view_module_version": "1.2.0",
      "_view_name": "LayoutView",
      "align_content": null,
      "align_items": null,
      "align_self": null,
      "border": null,
      "bottom": null,
      "display": null,
      "flex": null,
      "flex_flow": null,
      "grid_area": null,
      "grid_auto_columns": null,
      "grid_auto_flow": null,
      "grid_auto_rows": null,
      "grid_column": null,
      "grid_gap": null,
      "grid_row": null,
      "grid_template_areas": null,
      "grid_template_columns": null,
      "grid_template_rows": null,
      "height": null,
      "justify_content": null,
      "justify_items": null,
      "left": null,
      "margin": null,
      "max_height": null,
      "max_width": null,
      "min_height": null,
      "min_width": null,
      "object_fit": null,
      "object_position": null,
      "order": null,
      "overflow": null,
      "overflow_x": null,
      "overflow_y": null,
      "padding": null,
      "right": null,
      "top": null,
      "visibility": null,
      "width": null
     }
    },
    "f506870964224da19065b7e07a85f1db": {
     "model_module": "@jupyter-widgets/controls",
     "model_module_version": "1.5.0",
     "model_name": "HBoxModel",
     "state": {
      "_dom_classes": [],
      "_model_module": "@jupyter-widgets/controls",
      "_model_module_version": "1.5.0",
      "_model_name": "HBoxModel",
      "_view_count": null,
      "_view_module": "@jupyter-widgets/controls",
      "_view_module_version": "1.5.0",
      "_view_name": "HBoxView",
      "box_style": "",
      "children": [
       "IPY_MODEL_a5cd1248fa17401ba882c75a58c12a2e",
       "IPY_MODEL_33cef35231634075b27bf406b757f065",
       "IPY_MODEL_a8d9d5258da548f5b00c6d5b6c0b250f"
      ],
      "layout": "IPY_MODEL_83b962548015424e8472505088c62908"
     }
    },
    "f52d165761d84d76aa173b0c4c96fe22": {
     "model_module": "@jupyter-widgets/controls",
     "model_module_version": "1.5.0",
     "model_name": "DescriptionStyleModel",
     "state": {
      "_model_module": "@jupyter-widgets/controls",
      "_model_module_version": "1.5.0",
      "_model_name": "DescriptionStyleModel",
      "_view_count": null,
      "_view_module": "@jupyter-widgets/base",
      "_view_module_version": "1.2.0",
      "_view_name": "StyleView",
      "description_width": ""
     }
    },
    "f68be05ce5de4ad28adf8b703d16bede": {
     "model_module": "@jupyter-widgets/controls",
     "model_module_version": "1.5.0",
     "model_name": "DescriptionStyleModel",
     "state": {
      "_model_module": "@jupyter-widgets/controls",
      "_model_module_version": "1.5.0",
      "_model_name": "DescriptionStyleModel",
      "_view_count": null,
      "_view_module": "@jupyter-widgets/base",
      "_view_module_version": "1.2.0",
      "_view_name": "StyleView",
      "description_width": ""
     }
    },
    "f85527bb84c04f2fa85960de7fe804da": {
     "model_module": "@jupyter-widgets/base",
     "model_module_version": "1.2.0",
     "model_name": "LayoutModel",
     "state": {
      "_model_module": "@jupyter-widgets/base",
      "_model_module_version": "1.2.0",
      "_model_name": "LayoutModel",
      "_view_count": null,
      "_view_module": "@jupyter-widgets/base",
      "_view_module_version": "1.2.0",
      "_view_name": "LayoutView",
      "align_content": null,
      "align_items": null,
      "align_self": null,
      "border": null,
      "bottom": null,
      "display": null,
      "flex": null,
      "flex_flow": null,
      "grid_area": null,
      "grid_auto_columns": null,
      "grid_auto_flow": null,
      "grid_auto_rows": null,
      "grid_column": null,
      "grid_gap": null,
      "grid_row": null,
      "grid_template_areas": null,
      "grid_template_columns": null,
      "grid_template_rows": null,
      "height": null,
      "justify_content": null,
      "justify_items": null,
      "left": null,
      "margin": null,
      "max_height": null,
      "max_width": null,
      "min_height": null,
      "min_width": null,
      "object_fit": null,
      "object_position": null,
      "order": null,
      "overflow": null,
      "overflow_x": null,
      "overflow_y": null,
      "padding": null,
      "right": null,
      "top": null,
      "visibility": null,
      "width": null
     }
    },
    "fd1ec0fc6a0b4991ae371045a22a32f4": {
     "model_module": "@jupyter-widgets/controls",
     "model_module_version": "1.5.0",
     "model_name": "HBoxModel",
     "state": {
      "_dom_classes": [],
      "_model_module": "@jupyter-widgets/controls",
      "_model_module_version": "1.5.0",
      "_model_name": "HBoxModel",
      "_view_count": null,
      "_view_module": "@jupyter-widgets/controls",
      "_view_module_version": "1.5.0",
      "_view_name": "HBoxView",
      "box_style": "",
      "children": [
       "IPY_MODEL_bd3d80a9ea90413b929751d847d4a424",
       "IPY_MODEL_70309f0340d94c768b14345ef19517e5",
       "IPY_MODEL_ad25899500bd4e968f4f5bb8edf51f98"
      ],
      "layout": "IPY_MODEL_77664c80280f4a1fa3c1faedaf729e97"
     }
    },
    "fd58061acdba471a86d7225edd5d8b56": {
     "model_module": "@jupyter-widgets/base",
     "model_module_version": "1.2.0",
     "model_name": "LayoutModel",
     "state": {
      "_model_module": "@jupyter-widgets/base",
      "_model_module_version": "1.2.0",
      "_model_name": "LayoutModel",
      "_view_count": null,
      "_view_module": "@jupyter-widgets/base",
      "_view_module_version": "1.2.0",
      "_view_name": "LayoutView",
      "align_content": null,
      "align_items": null,
      "align_self": null,
      "border": null,
      "bottom": null,
      "display": null,
      "flex": null,
      "flex_flow": null,
      "grid_area": null,
      "grid_auto_columns": null,
      "grid_auto_flow": null,
      "grid_auto_rows": null,
      "grid_column": null,
      "grid_gap": null,
      "grid_row": null,
      "grid_template_areas": null,
      "grid_template_columns": null,
      "grid_template_rows": null,
      "height": null,
      "justify_content": null,
      "justify_items": null,
      "left": null,
      "margin": null,
      "max_height": null,
      "max_width": null,
      "min_height": null,
      "min_width": null,
      "object_fit": null,
      "object_position": null,
      "order": null,
      "overflow": null,
      "overflow_x": null,
      "overflow_y": null,
      "padding": null,
      "right": null,
      "top": null,
      "visibility": null,
      "width": null
     }
    }
   }
  }
 },
 "nbformat": 4,
 "nbformat_minor": 4
}
